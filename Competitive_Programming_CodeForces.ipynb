{
  "nbformat": 4,
  "nbformat_minor": 0,
  "metadata": {
    "colab": {
      "provenance": [],
      "toc_visible": true
    },
    "kernelspec": {
      "name": "python3",
      "display_name": "Python 3"
    },
    "language_info": {
      "name": "python"
    }
  },
  "cells": [
    {
      "cell_type": "code",
      "execution_count": null,
      "metadata": {
        "colab": {
          "base_uri": "https://localhost:8080/"
        },
        "id": "boG4sjDNlqk1",
        "outputId": "8fe9770f-7875-4ce2-ab4c-f21e73609611"
      },
      "outputs": [
        {
          "output_type": "stream",
          "name": "stdout",
          "text": [
            "8\n",
            "YES\n"
          ]
        }
      ],
      "source": [
        "w = int(input())\n",
        "if w > 2 and w%2 == 0:\n",
        "    print(\"YES\")\n",
        "else:\n",
        "    print(\"NO\")"
      ]
    },
    {
      "cell_type": "code",
      "source": [
        "n = int(input())\n",
        "count = 0\n",
        "for i in range(n):\n",
        "  a,b = map(int, input().split())\n",
        "  if b - a >=2:\n",
        "    count = count + 1\n",
        "print(count)"
      ],
      "metadata": {
        "colab": {
          "base_uri": "https://localhost:8080/"
        },
        "id": "7WW506hSmi_k",
        "outputId": "89544cc3-0e4d-46e1-cf8d-bcd43674ada0"
      },
      "execution_count": null,
      "outputs": [
        {
          "output_type": "stream",
          "name": "stdout",
          "text": [
            "3\n",
            "1 1\n",
            "4 7\n",
            "8 11\n",
            "2\n"
          ]
        }
      ]
    },
    {
      "cell_type": "code",
      "source": [
        "n = int(input())\n",
        "count = 0\n",
        "solution = []\n",
        "for i in range(n):\n",
        "  string = input()\n",
        "  if len(string) > 10:\n",
        "    compresed = string[0]+str(len(string)-2)+string[-1]\n",
        "    solution.append(compresed)\n",
        "  else:\n",
        "    solution.append(string)\n",
        "\n",
        "for string in solution:\n",
        "  print(string)"
      ],
      "metadata": {
        "colab": {
          "base_uri": "https://localhost:8080/",
          "height": 365
        },
        "id": "h31NO59Pxo4_",
        "outputId": "95152d31-25f7-45d9-de14-b2e8be23333c"
      },
      "execution_count": null,
      "outputs": [
        {
          "output_type": "error",
          "ename": "KeyboardInterrupt",
          "evalue": "Interrupted by user",
          "traceback": [
            "\u001b[0;31m---------------------------------------------------------------------------\u001b[0m",
            "\u001b[0;31mKeyboardInterrupt\u001b[0m                         Traceback (most recent call last)",
            "\u001b[0;32m<ipython-input-6-e911e2a08b53>\u001b[0m in \u001b[0;36m<cell line: 1>\u001b[0;34m()\u001b[0m\n\u001b[0;32m----> 1\u001b[0;31m \u001b[0mn\u001b[0m \u001b[0;34m=\u001b[0m \u001b[0mint\u001b[0m\u001b[0;34m(\u001b[0m\u001b[0minput\u001b[0m\u001b[0;34m(\u001b[0m\u001b[0;34m)\u001b[0m\u001b[0;34m)\u001b[0m\u001b[0;34m\u001b[0m\u001b[0;34m\u001b[0m\u001b[0m\n\u001b[0m\u001b[1;32m      2\u001b[0m \u001b[0mcount\u001b[0m \u001b[0;34m=\u001b[0m \u001b[0;36m0\u001b[0m\u001b[0;34m\u001b[0m\u001b[0;34m\u001b[0m\u001b[0m\n\u001b[1;32m      3\u001b[0m \u001b[0msolution\u001b[0m \u001b[0;34m=\u001b[0m \u001b[0;34m[\u001b[0m\u001b[0;34m]\u001b[0m\u001b[0;34m\u001b[0m\u001b[0;34m\u001b[0m\u001b[0m\n\u001b[1;32m      4\u001b[0m \u001b[0;32mfor\u001b[0m \u001b[0mi\u001b[0m \u001b[0;32min\u001b[0m \u001b[0mrange\u001b[0m\u001b[0;34m(\u001b[0m\u001b[0mn\u001b[0m\u001b[0;34m)\u001b[0m\u001b[0;34m:\u001b[0m\u001b[0;34m\u001b[0m\u001b[0;34m\u001b[0m\u001b[0m\n\u001b[1;32m      5\u001b[0m   \u001b[0mstring\u001b[0m \u001b[0;34m=\u001b[0m \u001b[0minput\u001b[0m\u001b[0;34m(\u001b[0m\u001b[0;34m)\u001b[0m\u001b[0;34m\u001b[0m\u001b[0;34m\u001b[0m\u001b[0m\n",
            "\u001b[0;32m/usr/local/lib/python3.10/dist-packages/ipykernel/kernelbase.py\u001b[0m in \u001b[0;36mraw_input\u001b[0;34m(self, prompt)\u001b[0m\n\u001b[1;32m    849\u001b[0m                 \u001b[0;34m\"raw_input was called, but this frontend does not support input requests.\"\u001b[0m\u001b[0;34m\u001b[0m\u001b[0;34m\u001b[0m\u001b[0m\n\u001b[1;32m    850\u001b[0m             )\n\u001b[0;32m--> 851\u001b[0;31m         return self._input_request(str(prompt),\n\u001b[0m\u001b[1;32m    852\u001b[0m             \u001b[0mself\u001b[0m\u001b[0;34m.\u001b[0m\u001b[0m_parent_ident\u001b[0m\u001b[0;34m,\u001b[0m\u001b[0;34m\u001b[0m\u001b[0;34m\u001b[0m\u001b[0m\n\u001b[1;32m    853\u001b[0m             \u001b[0mself\u001b[0m\u001b[0;34m.\u001b[0m\u001b[0m_parent_header\u001b[0m\u001b[0;34m,\u001b[0m\u001b[0;34m\u001b[0m\u001b[0;34m\u001b[0m\u001b[0m\n",
            "\u001b[0;32m/usr/local/lib/python3.10/dist-packages/ipykernel/kernelbase.py\u001b[0m in \u001b[0;36m_input_request\u001b[0;34m(self, prompt, ident, parent, password)\u001b[0m\n\u001b[1;32m    893\u001b[0m             \u001b[0;32mexcept\u001b[0m \u001b[0mKeyboardInterrupt\u001b[0m\u001b[0;34m:\u001b[0m\u001b[0;34m\u001b[0m\u001b[0;34m\u001b[0m\u001b[0m\n\u001b[1;32m    894\u001b[0m                 \u001b[0;31m# re-raise KeyboardInterrupt, to truncate traceback\u001b[0m\u001b[0;34m\u001b[0m\u001b[0;34m\u001b[0m\u001b[0m\n\u001b[0;32m--> 895\u001b[0;31m                 \u001b[0;32mraise\u001b[0m \u001b[0mKeyboardInterrupt\u001b[0m\u001b[0;34m(\u001b[0m\u001b[0;34m\"Interrupted by user\"\u001b[0m\u001b[0;34m)\u001b[0m \u001b[0;32mfrom\u001b[0m \u001b[0;32mNone\u001b[0m\u001b[0;34m\u001b[0m\u001b[0;34m\u001b[0m\u001b[0m\n\u001b[0m\u001b[1;32m    896\u001b[0m             \u001b[0;32mexcept\u001b[0m \u001b[0mException\u001b[0m \u001b[0;32mas\u001b[0m \u001b[0me\u001b[0m\u001b[0;34m:\u001b[0m\u001b[0;34m\u001b[0m\u001b[0;34m\u001b[0m\u001b[0m\n\u001b[1;32m    897\u001b[0m                 \u001b[0mself\u001b[0m\u001b[0;34m.\u001b[0m\u001b[0mlog\u001b[0m\u001b[0;34m.\u001b[0m\u001b[0mwarning\u001b[0m\u001b[0;34m(\u001b[0m\u001b[0;34m\"Invalid Message:\"\u001b[0m\u001b[0;34m,\u001b[0m \u001b[0mexc_info\u001b[0m\u001b[0;34m=\u001b[0m\u001b[0;32mTrue\u001b[0m\u001b[0;34m)\u001b[0m\u001b[0;34m\u001b[0m\u001b[0;34m\u001b[0m\u001b[0m\n",
            "\u001b[0;31mKeyboardInterrupt\u001b[0m: Interrupted by user"
          ]
        }
      ]
    },
    {
      "cell_type": "markdown",
      "source": [
        "## Codeforces Round 925 (Div. 3)"
      ],
      "metadata": {
        "id": "vPMBwwEznEa8"
      }
    },
    {
      "cell_type": "markdown",
      "source": [
        "### [A. Recovering a Small String](https://codeforces.com/problemset/problem/1931/A)"
      ],
      "metadata": {
        "id": "NhCxo5Oqi4Gq"
      }
    },
    {
      "cell_type": "code",
      "source": [
        "def pre_compute():\n",
        "  encoded_strings = {i: chr(97+i) for i in range(26)}\n",
        "  solution = {}\n",
        "  for i in range(3):\n",
        "    for j in range(26):\n",
        "      if i == 0:\n",
        "        solution[3+j] = 'aa' + encoded_strings[j]\n",
        "      elif i == 1:\n",
        "        solution[28+j] = 'a' + encoded_strings[j] + 'z'\n",
        "      elif i == 2:\n",
        "        solution[53+j] = encoded_strings[j] + 'zz'\n",
        "  return solution\n",
        "\n",
        "t = int(input())\n",
        "solve_problem = pre_compute()\n",
        "for i in range(t):\n",
        "  n = int(input())\n",
        "  print(solve_problem[n])"
      ],
      "metadata": {
        "id": "HXLy9UaA1pKl",
        "colab": {
          "base_uri": "https://localhost:8080/"
        },
        "outputId": "8f633ed8-6f1c-4959-c3b1-c34570afc6bb"
      },
      "execution_count": null,
      "outputs": [
        {
          "output_type": "stream",
          "name": "stdout",
          "text": [
            "1\n",
            "48\n",
            "auz\n"
          ]
        }
      ]
    },
    {
      "cell_type": "markdown",
      "source": [
        "### [B. Make equal](https://codeforces.com/problemset/problem/1931/B)"
      ],
      "metadata": {
        "id": "3_qAW0FdsXC8"
      }
    },
    {
      "cell_type": "code",
      "source": [
        "def solve(n, all):\n",
        "  capacity = sum(all) // n\n",
        "  remaining_water = 0\n",
        "  for i in range(n):\n",
        "    if all[i] + remaining_water < capacity:\n",
        "      return \"NO\"\n",
        "    else:\n",
        "      remaining_water = all[i] + remaining_water - capacity\n",
        "  if remaining_water == 0:\n",
        "    return \"YES\"\n",
        "  else:\n",
        "    return \"NO\"\n",
        "\n",
        "t = int(input())\n",
        "for i in range(t):\n",
        "  n = int(input())\n",
        "  all = [int(j) for j in input().split()]\n",
        "  print(solve(n, all))"
      ],
      "metadata": {
        "id": "K8hna6Dnl_iK",
        "colab": {
          "base_uri": "https://localhost:8080/"
        },
        "outputId": "71cf149d-86cb-47f2-efde-95e910236433"
      },
      "execution_count": null,
      "outputs": [
        {
          "output_type": "stream",
          "name": "stdout",
          "text": [
            "6\n",
            "1\n",
            "43\n",
            "YES\n",
            "2\n",
            "1 3\n",
            "NO\n",
            "5\n",
            "4 5 2 1 3\n",
            "YES\n",
            "3\n",
            "1 2 3\n",
            "NO\n",
            "7\n",
            "4 5 5 0 6 4 4\n",
            "NO\n",
            "7\n",
            "6 5 5 1 3 4 4\n",
            "YES\n"
          ]
        }
      ]
    },
    {
      "cell_type": "markdown",
      "source": [
        "### [C. Make equal again](https://codeforces.com/problemset/problem/1931/C)"
      ],
      "metadata": {
        "id": "MQeTsrlpxVdq"
      }
    },
    {
      "cell_type": "code",
      "source": [
        "def solve(n, all):\n",
        "  if n == 1:\n",
        "    return 0\n",
        "  else:\n",
        "    limit = all[0]\n",
        "    i = 0\n",
        "    count_l = 0\n",
        "    while i <= n-1 and all[i] == limit:\n",
        "      count_l = count_l + 1\n",
        "      i = i+1\n",
        "\n",
        "    limit = all[-1]\n",
        "    i = 1\n",
        "    count_r = 0\n",
        "    while i <= n-1 and all[-i] == limit:\n",
        "      count_r = count_r + 1\n",
        "      i = i+1\n",
        "\n",
        "    if all[0] == all[-1]:\n",
        "      count = min([count_l + count_r, n])\n",
        "    else:\n",
        "      count = max([count_l, count_r])\n",
        "  return n - count\n",
        "\n",
        "t = int(input())\n",
        "for i in range(t):\n",
        "  n = int(input())\n",
        "  all = [int(j) for j in input().split()]\n",
        "  print(solve(n, all))"
      ],
      "metadata": {
        "colab": {
          "base_uri": "https://localhost:8080/"
        },
        "id": "iq_3xHWMxfCJ",
        "outputId": "000acdc6-0310-4df1-8af3-2d4a9431aac5"
      },
      "execution_count": null,
      "outputs": [
        {
          "output_type": "stream",
          "name": "stdout",
          "text": [
            "1\n",
            "6\n",
            "1 2 3 4 5 1\n",
            "0\n"
          ]
        }
      ]
    },
    {
      "cell_type": "markdown",
      "source": [
        "## Thinkcell competition\n"
      ],
      "metadata": {
        "id": "NdJWs33jgh2R"
      }
    },
    {
      "cell_type": "code",
      "source": [
        "def find_max(n, lista):\n",
        "  lista.sort()\n",
        "  max_score = 0\n",
        "  for i in range(0, 2*n, 2):\n",
        "    max_score = max_score + lista[i]\n",
        "  return max_score\n",
        "\n",
        "t = int(input())\n",
        "solution =[]\n",
        "for i in range(t):\n",
        "  n = int(input())\n",
        "  all = [int(j) for j in input().split()]\n",
        "  solution.append(find_max(n, all))\n",
        "\n",
        "for i in solution:\n",
        "  print(i)\n"
      ],
      "metadata": {
        "colab": {
          "base_uri": "https://localhost:8080/",
          "height": 365
        },
        "id": "E2pHu6dugl0U",
        "outputId": "363a055e-758a-48de-a732-9312ff6d4e7f"
      },
      "execution_count": null,
      "outputs": [
        {
          "output_type": "error",
          "ename": "KeyboardInterrupt",
          "evalue": "Interrupted by user",
          "traceback": [
            "\u001b[0;31m---------------------------------------------------------------------------\u001b[0m",
            "\u001b[0;31mKeyboardInterrupt\u001b[0m                         Traceback (most recent call last)",
            "\u001b[0;32m<ipython-input-5-31582d2ded76>\u001b[0m in \u001b[0;36m<cell line: 8>\u001b[0;34m()\u001b[0m\n\u001b[1;32m      6\u001b[0m   \u001b[0;32mreturn\u001b[0m \u001b[0mmax_score\u001b[0m\u001b[0;34m\u001b[0m\u001b[0;34m\u001b[0m\u001b[0m\n\u001b[1;32m      7\u001b[0m \u001b[0;34m\u001b[0m\u001b[0m\n\u001b[0;32m----> 8\u001b[0;31m \u001b[0mt\u001b[0m \u001b[0;34m=\u001b[0m \u001b[0mint\u001b[0m\u001b[0;34m(\u001b[0m\u001b[0minput\u001b[0m\u001b[0;34m(\u001b[0m\u001b[0;34m)\u001b[0m\u001b[0;34m)\u001b[0m\u001b[0;34m\u001b[0m\u001b[0;34m\u001b[0m\u001b[0m\n\u001b[0m\u001b[1;32m      9\u001b[0m \u001b[0msolution\u001b[0m \u001b[0;34m=\u001b[0m\u001b[0;34m[\u001b[0m\u001b[0;34m]\u001b[0m\u001b[0;34m\u001b[0m\u001b[0;34m\u001b[0m\u001b[0m\n\u001b[1;32m     10\u001b[0m \u001b[0;32mfor\u001b[0m \u001b[0mi\u001b[0m \u001b[0;32min\u001b[0m \u001b[0mrange\u001b[0m\u001b[0;34m(\u001b[0m\u001b[0mt\u001b[0m\u001b[0;34m)\u001b[0m\u001b[0;34m:\u001b[0m\u001b[0;34m\u001b[0m\u001b[0;34m\u001b[0m\u001b[0m\n",
            "\u001b[0;32m/usr/local/lib/python3.10/dist-packages/ipykernel/kernelbase.py\u001b[0m in \u001b[0;36mraw_input\u001b[0;34m(self, prompt)\u001b[0m\n\u001b[1;32m    849\u001b[0m                 \u001b[0;34m\"raw_input was called, but this frontend does not support input requests.\"\u001b[0m\u001b[0;34m\u001b[0m\u001b[0;34m\u001b[0m\u001b[0m\n\u001b[1;32m    850\u001b[0m             )\n\u001b[0;32m--> 851\u001b[0;31m         return self._input_request(str(prompt),\n\u001b[0m\u001b[1;32m    852\u001b[0m             \u001b[0mself\u001b[0m\u001b[0;34m.\u001b[0m\u001b[0m_parent_ident\u001b[0m\u001b[0;34m,\u001b[0m\u001b[0;34m\u001b[0m\u001b[0;34m\u001b[0m\u001b[0m\n\u001b[1;32m    853\u001b[0m             \u001b[0mself\u001b[0m\u001b[0;34m.\u001b[0m\u001b[0m_parent_header\u001b[0m\u001b[0;34m,\u001b[0m\u001b[0;34m\u001b[0m\u001b[0;34m\u001b[0m\u001b[0m\n",
            "\u001b[0;32m/usr/local/lib/python3.10/dist-packages/ipykernel/kernelbase.py\u001b[0m in \u001b[0;36m_input_request\u001b[0;34m(self, prompt, ident, parent, password)\u001b[0m\n\u001b[1;32m    893\u001b[0m             \u001b[0;32mexcept\u001b[0m \u001b[0mKeyboardInterrupt\u001b[0m\u001b[0;34m:\u001b[0m\u001b[0;34m\u001b[0m\u001b[0;34m\u001b[0m\u001b[0m\n\u001b[1;32m    894\u001b[0m                 \u001b[0;31m# re-raise KeyboardInterrupt, to truncate traceback\u001b[0m\u001b[0;34m\u001b[0m\u001b[0;34m\u001b[0m\u001b[0m\n\u001b[0;32m--> 895\u001b[0;31m                 \u001b[0;32mraise\u001b[0m \u001b[0mKeyboardInterrupt\u001b[0m\u001b[0;34m(\u001b[0m\u001b[0;34m\"Interrupted by user\"\u001b[0m\u001b[0;34m)\u001b[0m \u001b[0;32mfrom\u001b[0m \u001b[0;32mNone\u001b[0m\u001b[0;34m\u001b[0m\u001b[0;34m\u001b[0m\u001b[0m\n\u001b[0m\u001b[1;32m    896\u001b[0m             \u001b[0;32mexcept\u001b[0m \u001b[0mException\u001b[0m \u001b[0;32mas\u001b[0m \u001b[0me\u001b[0m\u001b[0;34m:\u001b[0m\u001b[0;34m\u001b[0m\u001b[0;34m\u001b[0m\u001b[0m\n\u001b[1;32m    897\u001b[0m                 \u001b[0mself\u001b[0m\u001b[0;34m.\u001b[0m\u001b[0mlog\u001b[0m\u001b[0;34m.\u001b[0m\u001b[0mwarning\u001b[0m\u001b[0;34m(\u001b[0m\u001b[0;34m\"Invalid Message:\"\u001b[0m\u001b[0;34m,\u001b[0m \u001b[0mexc_info\u001b[0m\u001b[0;34m=\u001b[0m\u001b[0;32mTrue\u001b[0m\u001b[0;34m)\u001b[0m\u001b[0;34m\u001b[0m\u001b[0;34m\u001b[0m\u001b[0m\n",
            "\u001b[0;31mKeyboardInterrupt\u001b[0m: Interrupted by user"
          ]
        }
      ]
    },
    {
      "cell_type": "markdown",
      "source": [
        "### C. Lexicographically largest"
      ],
      "metadata": {
        "id": "me6gNfkInK2D"
      }
    },
    {
      "cell_type": "code",
      "source": [
        "def find_largest(n, lista):\n",
        "  new_list = [lista[j] + (j+1) for j in range(n)]\n",
        "  solution = []\n",
        "  for i in range(n):\n",
        "    max_element = max(new_list)\n",
        "    solution.append(max_element)\n",
        "    idx = new_list.index(max_element)\n",
        "    left_list = new_list[:idx]\n",
        "    right_list = [element - 1 for element in new_list[idx+1:]]\n",
        "    new_list = left_list + right_list\n",
        "  result = list(set(solution))\n",
        "  result.sort(reverse = True)\n",
        "  result = map(str, result)\n",
        "  return result\n",
        "\n",
        "t = int(input())\n",
        "solution =[]\n",
        "for i in range(t):\n",
        "  n = int(input())\n",
        "  all = [int(j) for j in input().split()]\n",
        "  solution.append(find_largest(n, all))\n",
        "\n",
        "for i in solution:\n",
        "  print(' '.join(i))"
      ],
      "metadata": {
        "colab": {
          "base_uri": "https://localhost:8080/"
        },
        "id": "RSOwGl2tnVz3",
        "outputId": "4bd98502-b602-45d9-fabc-c27dbe9dd2ca"
      },
      "execution_count": null,
      "outputs": [
        {
          "output_type": "stream",
          "name": "stdout",
          "text": [
            "1\n",
            "3\n",
            "6 4 8\n",
            "11 7 5\n"
          ]
        }
      ]
    },
    {
      "cell_type": "code",
      "source": [
        "def find_largest(n, lista):\n",
        "  new_list = [lista[j] + (j+1) for j in range(n)]\n",
        "  result = list(set(new_list))\n",
        "  result.sort(reverse = True)\n",
        "  result = map(str, result)\n",
        "  return result\n",
        "\n",
        "t = int(input())\n",
        "solution =[]\n",
        "for i in range(t):\n",
        "  n = int(input())\n",
        "  all = [int(j) for j in input().split()]\n",
        "  solution.append(find_largest(n, all))\n",
        "\n",
        "for i in solution:\n",
        "  print(' '.join(i))"
      ],
      "metadata": {
        "colab": {
          "base_uri": "https://localhost:8080/"
        },
        "id": "wGU-SSK0zwWC",
        "outputId": "29738231-d7b3-49f9-e4df-877825618d02"
      },
      "execution_count": null,
      "outputs": [
        {
          "output_type": "stream",
          "name": "stdout",
          "text": [
            "1\n",
            "2\n",
            "2 1\n",
            "3\n"
          ]
        }
      ]
    },
    {
      "cell_type": "code",
      "source": [
        "def find_permutation(n):\n",
        "  result = [n - j for j in range(n)]\n",
        "  result = map(str, result)\n",
        "  return result\n",
        "\n",
        "t = int(input())\n",
        "solution =[]\n",
        "for i in range(t):\n",
        "  n = int(input())\n",
        "  solution.append(find_permutation(n))\n",
        "\n",
        "for i in solution:\n",
        "  print(' '.join(i))"
      ],
      "metadata": {
        "colab": {
          "base_uri": "https://localhost:8080/"
        },
        "id": "fIbkF_mD1NdS",
        "outputId": "7e380910-0a2f-43d6-84c2-809d3c869444"
      },
      "execution_count": null,
      "outputs": [
        {
          "output_type": "stream",
          "name": "stdout",
          "text": [
            "2\n",
            "3\n",
            "4\n",
            "3 2 1\n",
            "4 3 2 1\n"
          ]
        }
      ]
    },
    {
      "cell_type": "markdown",
      "source": [
        "## ROUND 927 (Div 3)"
      ],
      "metadata": {
        "id": "PJn32y9KNVN8"
      }
    },
    {
      "cell_type": "markdown",
      "source": [
        "## A. Thorns and coins"
      ],
      "metadata": {
        "id": "bL51mfEbNdLU"
      }
    },
    {
      "cell_type": "code",
      "source": [
        "def find_permutation(n, all):\n",
        "  coins = 0\n",
        "  consecutive_thorns = 0\n",
        "  for i in range(n):\n",
        "    if all[i] == '.':\n",
        "      consecutive_thorns = 0\n",
        "    elif all[i] == '@':\n",
        "      coins = coins + 1\n",
        "      consecutive_thorns = 0\n",
        "    elif all[i] == '*':\n",
        "      consecutive_thorns = consecutive_thorns + 1\n",
        "      if consecutive_thorns == 2:\n",
        "        return coins\n",
        "  return coins\n",
        "\n",
        "t = int(input())\n",
        "solution =[]\n",
        "for i in range(t):\n",
        "  n = int(input())\n",
        "  all = input()\n",
        "  solution.append(find_permutation(n, all))\n",
        "\n",
        "for i in solution:\n",
        "  print(i)"
      ],
      "metadata": {
        "colab": {
          "base_uri": "https://localhost:8080/"
        },
        "id": "Hnpce6e_NhwG",
        "outputId": "805dcd86-3e63-451d-8e9c-88642fa9d927"
      },
      "execution_count": null,
      "outputs": [
        {
          "output_type": "stream",
          "name": "stdout",
          "text": [
            "1\n",
            "10\n",
            ".@@*@.**@@\n",
            "3\n"
          ]
        }
      ]
    },
    {
      "cell_type": "markdown",
      "source": [
        "B. Chaya Calendar"
      ],
      "metadata": {
        "id": "tkWVNj1hRfI-"
      }
    },
    {
      "cell_type": "code",
      "source": [],
      "metadata": {
        "id": "LIkRmYS4YhCl"
      },
      "execution_count": null,
      "outputs": []
    },
    {
      "cell_type": "code",
      "source": [
        "def next_sign(year, n):\n",
        "  if (year + 1) % n == 0:\n",
        "    return year + 1\n",
        "  else:\n",
        "    return (int((year + 1) / n) + 1) * n\n",
        "\n",
        "def find_extinction(n, all):\n",
        "  c_year = 0\n",
        "  for i in range(n):\n",
        "    c_year = next_sign(c_year, all[i])\n",
        "  return c_year\n",
        "\n",
        "t = int(input())\n",
        "solution =[]\n",
        "for i in range(t):\n",
        "  n = int(input())\n",
        "  all = [int(j) for j in input().split()]\n",
        "  solution.append(find_extinction(n, all))\n",
        "\n",
        "for i in solution:\n",
        "  print(i)"
      ],
      "metadata": {
        "colab": {
          "base_uri": "https://localhost:8080/"
        },
        "id": "D6dJ-2DhRgAq",
        "outputId": "cd527835-54d3-460d-c222-413277679b80"
      },
      "execution_count": null,
      "outputs": [
        {
          "output_type": "stream",
          "name": "stdout",
          "text": [
            "1\n",
            "6\n",
            "50 30 711 200 503 1006\n",
            "2012\n"
          ]
        }
      ]
    },
    {
      "cell_type": "markdown",
      "source": [
        "### C. LR-remainders"
      ],
      "metadata": {
        "id": "RQh-jjgqYh0s"
      }
    },
    {
      "cell_type": "code",
      "source": [
        "def solve_problem(n, m, all, s):\n",
        "  solution = []\n",
        "  product = 1\n",
        "  all = [i % m if i % m != 0 else m for i in all]\n",
        "  for number in all:\n",
        "    product = product * number\n",
        "\n",
        "  l_index = 0\n",
        "  r_index = -1\n",
        "\n",
        "  for char in s:\n",
        "    solution.append(str(product % m))\n",
        "    if char == 'L':\n",
        "      product = product // all[l_index]\n",
        "      l_index = l_index + 1\n",
        "    elif char == 'R':\n",
        "      product = product // all[r_index]\n",
        "      r_index = r_index - 1\n",
        "  return solution\n",
        "\n",
        "t = int(input())\n",
        "for i in range(t):\n",
        "  n, m = (map(int, input().split()))\n",
        "  all = [int(j) for j in input().split()]\n",
        "  s = input()\n",
        "  print(' '.join(solve_problem(n, m, all, s)))"
      ],
      "metadata": {
        "colab": {
          "base_uri": "https://localhost:8080/"
        },
        "id": "Ou0K2v5PYjif",
        "outputId": "d4818405-f7ab-491c-b91f-7251539f3adb"
      },
      "execution_count": null,
      "outputs": [
        {
          "output_type": "stream",
          "name": "stdout",
          "text": [
            "1\n",
            "5 1\n",
            "1 1 1 1 1\n",
            "LLLLL\n",
            "0 0 0 0 0\n"
          ]
        }
      ]
    },
    {
      "cell_type": "markdown",
      "source": [
        "### E. Final Countdown"
      ],
      "metadata": {
        "id": "Fs7duG11Pnw0"
      }
    },
    {
      "cell_type": "code",
      "source": [
        "def solve_problem(digits, n_str):\n",
        "  digits = len(n_str)\n",
        "  seconds = [int(n_str[:digits-i]) for i in range(digits)]\n",
        "  return sum(seconds)\n",
        "\n",
        "t = int(input())\n",
        "for i in range(t):\n",
        "  digits = int(input())\n",
        "  n_str = input().lstrip('0')\n",
        "  print(solve_problem(digits, n_str))"
      ],
      "metadata": {
        "colab": {
          "base_uri": "https://localhost:8080/"
        },
        "id": "iZf0pDWNPo7l",
        "outputId": "b23c6b58-75a8-40e4-8507-c5b994f7865c"
      },
      "execution_count": null,
      "outputs": [
        {
          "output_type": "stream",
          "name": "stdout",
          "text": [
            "1\n",
            "4\n",
            "0005\n",
            "5\n"
          ]
        }
      ]
    },
    {
      "cell_type": "markdown",
      "source": [
        "## Codeforces Round 928 (Div. 4)"
      ],
      "metadata": {
        "id": "PdSXVY72zYzu"
      }
    },
    {
      "cell_type": "markdown",
      "source": [
        "### [A](https://codeforces.com/contest/1926/problem/A). Vlad and the Best of Five"
      ],
      "metadata": {
        "id": "PxfGTIvTzdp2"
      }
    },
    {
      "cell_type": "code",
      "source": [
        "def solve_problem(s):\n",
        "  count_A = 0\n",
        "  count_B = 0\n",
        "  for char in s:\n",
        "    if char == 'A':\n",
        "      count_A = count_A +1\n",
        "    elif char == 'B':\n",
        "      count_B = count_B +1\n",
        "  if count_A > count_B:\n",
        "    solution = 'A'\n",
        "  else:\n",
        "    solution = 'B'\n",
        "  return solution\n",
        "\n",
        "t = int(input())\n",
        "for i in range(t):\n",
        "  s = input()\n",
        "  print(solve_problem(s))"
      ],
      "metadata": {
        "id": "wHpj_h08zsV9"
      },
      "execution_count": null,
      "outputs": []
    },
    {
      "cell_type": "markdown",
      "source": [
        "### [B. Vlad and Shapes](https://codeforces.com/contest/1926/problem/B)"
      ],
      "metadata": {
        "id": "pRxpobJk0vA4"
      }
    },
    {
      "cell_type": "code",
      "source": [
        "def solve_problem(n):\n",
        "  sum_digits = 0\n",
        "  for i in range(n):\n",
        "    s = str(i)\n",
        "    for char in s:\n",
        "      sum_digits = sum_digits + int(char)\n",
        "  return sum_digits\n",
        "\n",
        "t = int(input())\n",
        "for i in range(t):\n",
        "  n = int(input())\n",
        "  print(solve_problem(n))"
      ],
      "metadata": {
        "colab": {
          "base_uri": "https://localhost:8080/"
        },
        "id": "GBCq5Ehk04xZ",
        "outputId": "b24befb0-551a-4224-c9a6-f3cb61914d51"
      },
      "execution_count": null,
      "outputs": [
        {
          "output_type": "stream",
          "name": "stdout",
          "text": [
            "1\n",
            "1434\n",
            "18453\n"
          ]
        }
      ]
    },
    {
      "cell_type": "markdown",
      "source": [
        "### [C. Vlad and a Sum of Sum of Digits](https://codeforces.com/contest/1926/problem/C)\n"
      ],
      "metadata": {
        "id": "3REdOdc96lQa"
      }
    },
    {
      "cell_type": "code",
      "source": [
        "def solve_problem(n):\n",
        "  pre_compute = {0: 0}\n",
        "  sum_digits = 0\n",
        "  for i in range(1, n+1):\n",
        "    number = i\n",
        "    sum_digits = number % 10\n",
        "    while number >= 10:\n",
        "      number = number // 10\n",
        "      digit = number % 10\n",
        "      sum_digits = sum_digits + digit\n",
        "    pre_compute[i] = pre_compute[i-1] + sum_digits\n",
        "  return pre_compute\n",
        "\n",
        "pre_compute = solve_problem(200000)\n",
        "t = int(input())\n",
        "for i in range(t):\n",
        "  n = int(input())\n",
        "  print(pre_compute[n])"
      ],
      "metadata": {
        "colab": {
          "base_uri": "https://localhost:8080/"
        },
        "id": "2tsJDSu68NuI",
        "outputId": "5bce086c-ac35-4cf1-ee74-e0571f571ecb"
      },
      "execution_count": null,
      "outputs": [
        {
          "output_type": "stream",
          "name": "stdout",
          "text": [
            "1\n",
            "20\n",
            "{0: 0, 1: 1, 2: 3, 3: 6, 4: 10, 5: 15, 6: 21, 7: 28, 8: 36, 9: 45, 10: 46, 11: 48, 12: 51, 13: 55, 14: 60, 15: 66, 16: 73, 17: 81, 18: 90, 19: 100, 20: 102}\n",
            "102\n"
          ]
        }
      ]
    },
    {
      "cell_type": "markdown",
      "source": [
        "## Codeforces Round 932 (Div 2)\n"
      ],
      "metadata": {
        "id": "n1lfIV5-68qG"
      }
    },
    {
      "cell_type": "markdown",
      "source": [
        "### [A. Enterteiment in MAC](https://codeforces.com/contest/1935/problem/A)"
      ],
      "metadata": {
        "id": "PWKJqAyS7EaI"
      }
    },
    {
      "cell_type": "code",
      "source": [
        "def solve_problem(n, text: str):\n",
        "  reversed_text = text[::-1]\n",
        "\n",
        "  if text <= reversed_text:\n",
        "    return text\n",
        "  else:\n",
        "    return reversed_text + text\n",
        "\n",
        "\n",
        "\n",
        "t = int(input())\n",
        "for i in range(t):\n",
        "  n = int(input())\n",
        "  text = input()\n",
        "  print(solve_problem(n, text))"
      ],
      "metadata": {
        "colab": {
          "base_uri": "https://localhost:8080/",
          "height": 365
        },
        "id": "tBnGNBFC68GL",
        "outputId": "d8b3853c-3544-402f-a777-c0491848aa10"
      },
      "execution_count": null,
      "outputs": [
        {
          "output_type": "error",
          "ename": "KeyboardInterrupt",
          "evalue": "Interrupted by user",
          "traceback": [
            "\u001b[0;31m---------------------------------------------------------------------------\u001b[0m",
            "\u001b[0;31mKeyboardInterrupt\u001b[0m                         Traceback (most recent call last)",
            "\u001b[0;32m<ipython-input-11-9df11cdee09f>\u001b[0m in \u001b[0;36m<cell line: 11>\u001b[0;34m()\u001b[0m\n\u001b[1;32m      9\u001b[0m \u001b[0;34m\u001b[0m\u001b[0m\n\u001b[1;32m     10\u001b[0m \u001b[0;34m\u001b[0m\u001b[0m\n\u001b[0;32m---> 11\u001b[0;31m \u001b[0mt\u001b[0m \u001b[0;34m=\u001b[0m \u001b[0mint\u001b[0m\u001b[0;34m(\u001b[0m\u001b[0minput\u001b[0m\u001b[0;34m(\u001b[0m\u001b[0;34m)\u001b[0m\u001b[0;34m)\u001b[0m\u001b[0;34m\u001b[0m\u001b[0;34m\u001b[0m\u001b[0m\n\u001b[0m\u001b[1;32m     12\u001b[0m \u001b[0;32mfor\u001b[0m \u001b[0mi\u001b[0m \u001b[0;32min\u001b[0m \u001b[0mrange\u001b[0m\u001b[0;34m(\u001b[0m\u001b[0mt\u001b[0m\u001b[0;34m)\u001b[0m\u001b[0;34m:\u001b[0m\u001b[0;34m\u001b[0m\u001b[0;34m\u001b[0m\u001b[0m\n\u001b[1;32m     13\u001b[0m   \u001b[0mn\u001b[0m \u001b[0;34m=\u001b[0m \u001b[0mint\u001b[0m\u001b[0;34m(\u001b[0m\u001b[0minput\u001b[0m\u001b[0;34m(\u001b[0m\u001b[0;34m)\u001b[0m\u001b[0;34m)\u001b[0m\u001b[0;34m\u001b[0m\u001b[0;34m\u001b[0m\u001b[0m\n",
            "\u001b[0;32m/usr/local/lib/python3.10/dist-packages/ipykernel/kernelbase.py\u001b[0m in \u001b[0;36mraw_input\u001b[0;34m(self, prompt)\u001b[0m\n\u001b[1;32m    849\u001b[0m                 \u001b[0;34m\"raw_input was called, but this frontend does not support input requests.\"\u001b[0m\u001b[0;34m\u001b[0m\u001b[0;34m\u001b[0m\u001b[0m\n\u001b[1;32m    850\u001b[0m             )\n\u001b[0;32m--> 851\u001b[0;31m         return self._input_request(str(prompt),\n\u001b[0m\u001b[1;32m    852\u001b[0m             \u001b[0mself\u001b[0m\u001b[0;34m.\u001b[0m\u001b[0m_parent_ident\u001b[0m\u001b[0;34m,\u001b[0m\u001b[0;34m\u001b[0m\u001b[0;34m\u001b[0m\u001b[0m\n\u001b[1;32m    853\u001b[0m             \u001b[0mself\u001b[0m\u001b[0;34m.\u001b[0m\u001b[0m_parent_header\u001b[0m\u001b[0;34m,\u001b[0m\u001b[0;34m\u001b[0m\u001b[0;34m\u001b[0m\u001b[0m\n",
            "\u001b[0;32m/usr/local/lib/python3.10/dist-packages/ipykernel/kernelbase.py\u001b[0m in \u001b[0;36m_input_request\u001b[0;34m(self, prompt, ident, parent, password)\u001b[0m\n\u001b[1;32m    893\u001b[0m             \u001b[0;32mexcept\u001b[0m \u001b[0mKeyboardInterrupt\u001b[0m\u001b[0;34m:\u001b[0m\u001b[0;34m\u001b[0m\u001b[0;34m\u001b[0m\u001b[0m\n\u001b[1;32m    894\u001b[0m                 \u001b[0;31m# re-raise KeyboardInterrupt, to truncate traceback\u001b[0m\u001b[0;34m\u001b[0m\u001b[0;34m\u001b[0m\u001b[0m\n\u001b[0;32m--> 895\u001b[0;31m                 \u001b[0;32mraise\u001b[0m \u001b[0mKeyboardInterrupt\u001b[0m\u001b[0;34m(\u001b[0m\u001b[0;34m\"Interrupted by user\"\u001b[0m\u001b[0;34m)\u001b[0m \u001b[0;32mfrom\u001b[0m \u001b[0;32mNone\u001b[0m\u001b[0;34m\u001b[0m\u001b[0;34m\u001b[0m\u001b[0m\n\u001b[0m\u001b[1;32m    896\u001b[0m             \u001b[0;32mexcept\u001b[0m \u001b[0mException\u001b[0m \u001b[0;32mas\u001b[0m \u001b[0me\u001b[0m\u001b[0;34m:\u001b[0m\u001b[0;34m\u001b[0m\u001b[0;34m\u001b[0m\u001b[0m\n\u001b[1;32m    897\u001b[0m                 \u001b[0mself\u001b[0m\u001b[0;34m.\u001b[0m\u001b[0mlog\u001b[0m\u001b[0;34m.\u001b[0m\u001b[0mwarning\u001b[0m\u001b[0;34m(\u001b[0m\u001b[0;34m\"Invalid Message:\"\u001b[0m\u001b[0;34m,\u001b[0m \u001b[0mexc_info\u001b[0m\u001b[0;34m=\u001b[0m\u001b[0;32mTrue\u001b[0m\u001b[0;34m)\u001b[0m\u001b[0;34m\u001b[0m\u001b[0;34m\u001b[0m\u001b[0m\n",
            "\u001b[0;31mKeyboardInterrupt\u001b[0m: Interrupted by user"
          ]
        }
      ]
    },
    {
      "cell_type": "markdown",
      "source": [],
      "metadata": {
        "id": "zq8Ngg-6KfsV"
      }
    },
    {
      "cell_type": "code",
      "source": [
        "def solve_problem(n, all: list):\n",
        "  l_set = set()\n",
        "  r_set = set()\n",
        "  l_index = 0\n",
        "  r_index = n - 1\n",
        "  l_mex = 0\n",
        "  r_mex = 0\n",
        "  while l_index != r_index:\n",
        "    print(f\"{l_index = } - {r_index = } ---- {l_mex = } - {r_mex = } ---- {l_set = } - {r_set = }\")\n",
        "    if l_mex <= r_mex:\n",
        "      l_set.add(all[l_index])\n",
        "      while l_mex in l_set:\n",
        "        l_mex = l_mex + 1\n",
        "      l_index = l_index + 1\n",
        "    else:\n",
        "      r_set.add(all[r_index])\n",
        "      while r_mex in r_set:\n",
        "        r_mex = r_mex + 1\n",
        "      r_index = r_index - 1\n",
        "\n",
        "  if l_mex == r_mex:\n",
        "    print(\"2\")\n",
        "    print(f\"1 {l_index}\")\n",
        "    print(f\"{l_index + 1} {n}\")\n",
        "  else:\n",
        "    print(\"-1\")\n",
        "\n",
        "\n",
        "t = int(input())\n",
        "for i in range(t):\n",
        "  n = int(input())\n",
        "  all = [int(i) for i in input().split()]\n",
        "  solve_problem(n, all)\n"
      ],
      "metadata": {
        "colab": {
          "base_uri": "https://localhost:8080/"
        },
        "id": "9uBMw__3KfP1",
        "outputId": "19cd2636-ba3e-45c2-9b60-9a424a049680"
      },
      "execution_count": null,
      "outputs": [
        {
          "output_type": "stream",
          "name": "stdout",
          "text": [
            "1\n",
            "2\n",
            "0 0\n",
            "l_index = 0 - r_index = 1 ---- l_mex = 0 - r_mex = 0 ---- l_set = set() - r_set = set()\n",
            "-1\n"
          ]
        }
      ]
    },
    {
      "cell_type": "code",
      "source": [
        "print(\"0 0 0\"[4])"
      ],
      "metadata": {
        "colab": {
          "base_uri": "https://localhost:8080/"
        },
        "id": "vix72YAfKwoV",
        "outputId": "767373bc-70c2-47a3-fa06-f44637a01012"
      },
      "execution_count": null,
      "outputs": [
        {
          "output_type": "stream",
          "name": "stdout",
          "text": [
            "0\n"
          ]
        }
      ]
    },
    {
      "cell_type": "markdown",
      "source": [
        "## Codeforces Round 933 (Div 3)"
      ],
      "metadata": {
        "id": "Ygefv_75_Wwp"
      }
    },
    {
      "cell_type": "markdown",
      "source": [
        "### [A. Rudolf and the Ticket](https://codeforces.com/contest/1941/problem/A)"
      ],
      "metadata": {
        "id": "HEEwNBs1_dBL"
      }
    },
    {
      "cell_type": "code",
      "source": [
        "def solve_problem(n, m, k, b_all, c_all: list):\n",
        "  b_all.sort()\n",
        "  c_all.sort()\n",
        "  solution = 0\n",
        "  l_index = 0\n",
        "  r_index = 0\n",
        "\n",
        "  b_dict = {}\n",
        "  c_dict = {}\n",
        "  for element in b_all:\n",
        "    if element not in b_dict:\n",
        "      b_dict[element] = 1\n",
        "    else:\n",
        "      b_dict[element] = b_dict[element] + 1\n",
        "  for element in c_all:\n",
        "    if element not in b_dict:\n",
        "      c_dict[element] = 1\n",
        "    else:\n",
        "      c_dict[element] = b_dict[element] + 1\n",
        "\n",
        "def solve_problem2(n, m, k, b_all, c_all: list):\n",
        "  solution = 0\n",
        "  for num1 in b_all:\n",
        "    for num2 in c_all:\n",
        "      if num1 + num2 <= k:\n",
        "        solution = solution + 1\n",
        "  print(solution)\n",
        "\n",
        "\n",
        "t = int(input())\n",
        "for i in range(t):\n",
        "  n, m, k = [int(i) for i in input().split()]\n",
        "  b_all = [int(i) for i in input().split()]\n",
        "  c_all = [int(i) for i in input().split()]\n",
        "  solve_problem2(n, m, k, b_all, c_all)"
      ],
      "metadata": {
        "colab": {
          "base_uri": "https://localhost:8080/"
        },
        "id": "7biySTbO_pDN",
        "outputId": "506b1cd9-da73-4176-8ea9-dfbc19e60ccf"
      },
      "execution_count": null,
      "outputs": [
        {
          "output_type": "stream",
          "name": "stdout",
          "text": [
            "1\n",
            "4 4 8\n",
            "1 5 10 14\n",
            "2 1 8 1\n",
            "6\n"
          ]
        }
      ]
    },
    {
      "cell_type": "markdown",
      "source": [
        "### [B. Rudolf and 121](https://codeforces.com/contest/1941/problem/B)"
      ],
      "metadata": {
        "id": "rX92rybdI8Pr"
      }
    },
    {
      "cell_type": "code",
      "source": [
        "def solve_problem(n, all):\n",
        "  solution = 0\n",
        "  i = 0\n",
        "  while i <= n-3:\n",
        "    all[i + 1] = all[i + 1] - 2 * all[i]\n",
        "    all[i + 2] = all[i + 2] - all[i]\n",
        "    all[i] = 0\n",
        "\n",
        "    if all[i]< 0 or all[i+1]<0 or all[i+2]<0:\n",
        "      return \"NO\"\n",
        "\n",
        "    i = i + 1\n",
        "  if sum(all) == 0:\n",
        "    return(\"YES\")\n",
        "  else:\n",
        "    return(\"NO\")\n",
        "\n",
        "\n",
        "t = int(input())\n",
        "for i in range(t):\n",
        "  n = int(input())\n",
        "  all = [int(i) for i in input().split()]\n",
        "  print(solve_problem(n, all))"
      ],
      "metadata": {
        "colab": {
          "base_uri": "https://localhost:8080/"
        },
        "id": "YqMlO48uI40H",
        "outputId": "94794891-4820-45b8-ce75-e67bb8592ad5"
      },
      "execution_count": null,
      "outputs": [
        {
          "output_type": "stream",
          "name": "stdout",
          "text": [
            "1\n",
            "5\n",
            "1 3 5 5 2\n",
            "YES\n"
          ]
        }
      ]
    },
    {
      "cell_type": "markdown",
      "source": [
        "### [C. Rudolf and the ugly string](https://codeforces.com/contest/1941/problem/C)"
      ],
      "metadata": {
        "id": "0rgVWRSEPSTj"
      }
    },
    {
      "cell_type": "code",
      "source": [
        "def solve_problem(n, s):\n",
        "  solution = s.count('pie') + s.count('map') - (s.count('mapie'))\n",
        "  return solution\n",
        "\n",
        "\n",
        "t = int(input())\n",
        "for i in range(t):\n",
        "  n = int(input())\n",
        "  s = input()\n",
        "  print(solve_problem(n, s))"
      ],
      "metadata": {
        "colab": {
          "base_uri": "https://localhost:8080/"
        },
        "id": "0hn8u2j9Pbsm",
        "outputId": "391f6619-701e-4343-dd9a-f58536ee62cd"
      },
      "execution_count": null,
      "outputs": [
        {
          "output_type": "stream",
          "name": "stdout",
          "text": [
            "6\n",
            "9\n",
            "mmapnapie\n",
            "2\n",
            "9\n",
            "azabazapi\n",
            "0\n",
            "8\n",
            "mappppie\n",
            "2\n",
            "18\n",
            "mapmapmapmapmapmap\n",
            "6\n",
            "1\n",
            "p\n",
            "0\n",
            "11\n",
            "pppiepieeee\n",
            "2\n"
          ]
        }
      ]
    },
    {
      "cell_type": "markdown",
      "source": [
        "### [D. Rudolf and the ball game](https://codeforces.com/contest/1941/problem/D)"
      ],
      "metadata": {
        "id": "VSBNCXS9Tbrf"
      }
    },
    {
      "cell_type": "code",
      "source": [
        "def solve_problem(n, m, x, all):\n",
        "  s_throws = []\n",
        "  i = 0\n",
        "  distance = 0\n",
        "  p_with_ball = set()\n",
        "  p_with_ball.add(x)\n",
        "  while i < m:\n",
        "    if all[i][1] == '0':\n",
        "      distance = (distance + all[i][0]) % n\n",
        "      if i == m-1:\n",
        "        new_set = set()\n",
        "        for player in p_with_ball:\n",
        "          new_set.add((player + distance) % n)\n",
        "        distance = 0\n",
        "        p_with_ball = new_set\n",
        "    elif all[i][1] == '1':\n",
        "      distance = (distance - all[i][0]) % n\n",
        "      if i == m-1:\n",
        "        new_set = set()\n",
        "        for player in p_with_ball:\n",
        "          new_set.add((player + distance) % n)\n",
        "        distance = 0\n",
        "        p_with_ball = new_set\n",
        "\n",
        "    elif all[i][1] == '?' or i == m-1:\n",
        "      new_set = set()\n",
        "      for player in p_with_ball:\n",
        "        new_set.add((player + distance + all[i][0]) % n)\n",
        "        new_set.add((player + distance - all[i][0]) % n)\n",
        "      distance = 0\n",
        "      p_with_ball = new_set\n",
        "\n",
        "    i = i + 1\n",
        "  p_with_ball = list(p_with_ball)\n",
        "  p_with_ball = [el if el != 0 else n for el in p_with_ball]\n",
        "  p_with_ball.sort()\n",
        "  p_with_ball = [str(e) for e in p_with_ball]\n",
        "  print(len(p_with_ball))\n",
        "  print(' '.join(p_with_ball))\n",
        "\n",
        "t = int(input())\n",
        "for i in range(t):\n",
        "  n, m, x = [int(i) for i in input().split()]\n",
        "  all = []\n",
        "  for i in range(m):\n",
        "    dis, dir = input().split()\n",
        "    throw = [int(dis), dir]\n",
        "    all.append(throw)\n",
        "  solve_problem(n, m, x, all)"
      ],
      "metadata": {
        "colab": {
          "base_uri": "https://localhost:8080/"
        },
        "id": "4PBQTa9yTrnw",
        "outputId": "3095d08c-5420-4612-fd54-3c54af5dc13b"
      },
      "execution_count": null,
      "outputs": [
        {
          "output_type": "stream",
          "name": "stdout",
          "text": [
            "1\n",
            "10 7 4\n",
            "2 ?\n",
            "9 1\n",
            "4 ?\n",
            "7 0\n",
            "2 0\n",
            "8 1\n",
            "5 ?\n",
            "begin i =0 p_with_ball={4}\n",
            "begin i =1 p_with_ball={2, 6}\n",
            "begin i =2 p_with_ball={2, 6}\n",
            "begin i =3 p_with_ball={9, 3, 1, 7}\n",
            "begin i =4 p_with_ball={9, 3, 1, 7}\n",
            "begin i =5 p_with_ball={9, 3, 1, 7}\n",
            "begin i =6 p_with_ball={9, 3, 1, 7}\n",
            "4\n",
            "3 5 7 9\n"
          ]
        }
      ]
    },
    {
      "cell_type": "markdown",
      "source": [
        "### [E. Rudolf and k Bridges](https://codeforces.com/contest/1941/problem/E)"
      ],
      "metadata": {
        "id": "SieA5yPFe-m5"
      }
    },
    {
      "cell_type": "markdown",
      "source": [],
      "metadata": {
        "id": "h3idEEpFhmFN"
      }
    },
    {
      "cell_type": "code",
      "source": [
        "from collections import deque\n",
        "\n",
        "def min_path_by_row(m, d, row):\n",
        "  min_deq = deque(row[:d+2])\n",
        "  for i in range(d+2, m):\n",
        "    min_deq.popleft()\n",
        "    mini = row[i] + 1 + min(min_deq)\n",
        "    min_deq.append(mini)\n",
        "  return min_deq[-1] + 2\n",
        "\n",
        "def calculate_min_path(n, m, d, all):\n",
        "  min_path = []\n",
        "  for row in all:\n",
        "    min_path.append(min_path_by_row(m, d, row))\n",
        "  return min_path\n",
        "\n",
        "def solve_problem(n, m, k, d, all):\n",
        "  min_path = calculate_min_path(n, m, d, all)\n",
        "  min_k_paths = []\n",
        "  for i in range(n-k+1):\n",
        "    min_k_paths.append(sum(min_path[i: i + k]))\n",
        "  return min(min_k_paths)\n",
        "\n",
        "t = int(input())\n",
        "for i in range(t):\n",
        "  n, m, k, d = [int(i) for i in input().split()]\n",
        "  all = []\n",
        "  for i in range(n):\n",
        "    row = [int(j) for j in input().split()]\n",
        "    all.append(row)\n",
        "  print(solve_problem(n, m, k, d, all))"
      ],
      "metadata": {
        "colab": {
          "base_uri": "https://localhost:8080/",
          "height": 365
        },
        "id": "1ekbz_2xVsTA",
        "outputId": "5407646a-177c-4558-81c7-30c36658d908"
      },
      "execution_count": null,
      "outputs": [
        {
          "output_type": "error",
          "ename": "KeyboardInterrupt",
          "evalue": "Interrupted by user",
          "traceback": [
            "\u001b[0;31m---------------------------------------------------------------------------\u001b[0m",
            "\u001b[0;31mKeyboardInterrupt\u001b[0m                         Traceback (most recent call last)",
            "\u001b[0;32m<ipython-input-52-b7db1254aff3>\u001b[0m in \u001b[0;36m<cell line: 24>\u001b[0;34m()\u001b[0m\n\u001b[1;32m     22\u001b[0m   \u001b[0;32mreturn\u001b[0m \u001b[0mmin\u001b[0m\u001b[0;34m(\u001b[0m\u001b[0mmin_k_paths\u001b[0m\u001b[0;34m)\u001b[0m\u001b[0;34m\u001b[0m\u001b[0;34m\u001b[0m\u001b[0m\n\u001b[1;32m     23\u001b[0m \u001b[0;34m\u001b[0m\u001b[0m\n\u001b[0;32m---> 24\u001b[0;31m \u001b[0mt\u001b[0m \u001b[0;34m=\u001b[0m \u001b[0mint\u001b[0m\u001b[0;34m(\u001b[0m\u001b[0minput\u001b[0m\u001b[0;34m(\u001b[0m\u001b[0;34m)\u001b[0m\u001b[0;34m)\u001b[0m\u001b[0;34m\u001b[0m\u001b[0;34m\u001b[0m\u001b[0m\n\u001b[0m\u001b[1;32m     25\u001b[0m \u001b[0;32mfor\u001b[0m \u001b[0mi\u001b[0m \u001b[0;32min\u001b[0m \u001b[0mrange\u001b[0m\u001b[0;34m(\u001b[0m\u001b[0mt\u001b[0m\u001b[0;34m)\u001b[0m\u001b[0;34m:\u001b[0m\u001b[0;34m\u001b[0m\u001b[0;34m\u001b[0m\u001b[0m\n\u001b[1;32m     26\u001b[0m   \u001b[0mn\u001b[0m\u001b[0;34m,\u001b[0m \u001b[0mm\u001b[0m\u001b[0;34m,\u001b[0m \u001b[0mk\u001b[0m\u001b[0;34m,\u001b[0m \u001b[0md\u001b[0m \u001b[0;34m=\u001b[0m \u001b[0;34m[\u001b[0m\u001b[0mint\u001b[0m\u001b[0;34m(\u001b[0m\u001b[0mi\u001b[0m\u001b[0;34m)\u001b[0m \u001b[0;32mfor\u001b[0m \u001b[0mi\u001b[0m \u001b[0;32min\u001b[0m \u001b[0minput\u001b[0m\u001b[0;34m(\u001b[0m\u001b[0;34m)\u001b[0m\u001b[0;34m.\u001b[0m\u001b[0msplit\u001b[0m\u001b[0;34m(\u001b[0m\u001b[0;34m)\u001b[0m\u001b[0;34m]\u001b[0m\u001b[0;34m\u001b[0m\u001b[0;34m\u001b[0m\u001b[0m\n",
            "\u001b[0;32m/usr/local/lib/python3.10/dist-packages/ipykernel/kernelbase.py\u001b[0m in \u001b[0;36mraw_input\u001b[0;34m(self, prompt)\u001b[0m\n\u001b[1;32m    849\u001b[0m                 \u001b[0;34m\"raw_input was called, but this frontend does not support input requests.\"\u001b[0m\u001b[0;34m\u001b[0m\u001b[0;34m\u001b[0m\u001b[0m\n\u001b[1;32m    850\u001b[0m             )\n\u001b[0;32m--> 851\u001b[0;31m         return self._input_request(str(prompt),\n\u001b[0m\u001b[1;32m    852\u001b[0m             \u001b[0mself\u001b[0m\u001b[0;34m.\u001b[0m\u001b[0m_parent_ident\u001b[0m\u001b[0;34m,\u001b[0m\u001b[0;34m\u001b[0m\u001b[0;34m\u001b[0m\u001b[0m\n\u001b[1;32m    853\u001b[0m             \u001b[0mself\u001b[0m\u001b[0;34m.\u001b[0m\u001b[0m_parent_header\u001b[0m\u001b[0;34m,\u001b[0m\u001b[0;34m\u001b[0m\u001b[0;34m\u001b[0m\u001b[0m\n",
            "\u001b[0;32m/usr/local/lib/python3.10/dist-packages/ipykernel/kernelbase.py\u001b[0m in \u001b[0;36m_input_request\u001b[0;34m(self, prompt, ident, parent, password)\u001b[0m\n\u001b[1;32m    893\u001b[0m             \u001b[0;32mexcept\u001b[0m \u001b[0mKeyboardInterrupt\u001b[0m\u001b[0;34m:\u001b[0m\u001b[0;34m\u001b[0m\u001b[0;34m\u001b[0m\u001b[0m\n\u001b[1;32m    894\u001b[0m                 \u001b[0;31m# re-raise KeyboardInterrupt, to truncate traceback\u001b[0m\u001b[0;34m\u001b[0m\u001b[0;34m\u001b[0m\u001b[0m\n\u001b[0;32m--> 895\u001b[0;31m                 \u001b[0;32mraise\u001b[0m \u001b[0mKeyboardInterrupt\u001b[0m\u001b[0;34m(\u001b[0m\u001b[0;34m\"Interrupted by user\"\u001b[0m\u001b[0;34m)\u001b[0m \u001b[0;32mfrom\u001b[0m \u001b[0;32mNone\u001b[0m\u001b[0;34m\u001b[0m\u001b[0;34m\u001b[0m\u001b[0m\n\u001b[0m\u001b[1;32m    896\u001b[0m             \u001b[0;32mexcept\u001b[0m \u001b[0mException\u001b[0m \u001b[0;32mas\u001b[0m \u001b[0me\u001b[0m\u001b[0;34m:\u001b[0m\u001b[0;34m\u001b[0m\u001b[0;34m\u001b[0m\u001b[0m\n\u001b[1;32m    897\u001b[0m                 \u001b[0mself\u001b[0m\u001b[0;34m.\u001b[0m\u001b[0mlog\u001b[0m\u001b[0;34m.\u001b[0m\u001b[0mwarning\u001b[0m\u001b[0;34m(\u001b[0m\u001b[0;34m\"Invalid Message:\"\u001b[0m\u001b[0;34m,\u001b[0m \u001b[0mexc_info\u001b[0m\u001b[0;34m=\u001b[0m\u001b[0;32mTrue\u001b[0m\u001b[0;34m)\u001b[0m\u001b[0;34m\u001b[0m\u001b[0;34m\u001b[0m\u001b[0m\n",
            "\u001b[0;31mKeyboardInterrupt\u001b[0m: Interrupted by user"
          ]
        }
      ]
    },
    {
      "cell_type": "code",
      "source": [
        "from collections import deque\n",
        "\n",
        "def min_path_by_row(m, d, row):\n",
        "  min_deq = deque(row[:d+2])\n",
        "  for i in range(d+2, m):\n",
        "    min_deq.popleft()\n",
        "    mini = row[i] + 1 + min(min_deq)\n",
        "    min_deq.append(mini)\n",
        "  return min_deq[-1] + 2\n",
        "\n",
        "n, m, k, d = (3, 11, 1, 4)\n",
        "all = [\n",
        "    [0, 1, 2, 3, 4, 5, 4, 3, 2, 1, 0],\n",
        "    [0, 1, 2, 3, 2, 1, 2, 3, 3, 2, 0],\n",
        "    [0, 1, 2, 3, 5, 5, 5, 5, 5, 2, 0]\n",
        "]\n",
        "#n, m, k, d = 3, 11, 1, 4\n",
        "\n",
        "# print(min_path_by_row(m, d, [0, 1, 2, 3, 5, 5, 5, 5, 5, 2, 0]))\n",
        "\n",
        "print(solve_problem(n, m, k, d, all))"
      ],
      "metadata": {
        "colab": {
          "base_uri": "https://localhost:8080/"
        },
        "id": "WxfN1XSrk6XS",
        "outputId": "1e123a94-9aa0-43ab-dd9c-1fe9db097d15"
      },
      "execution_count": null,
      "outputs": [
        {
          "output_type": "stream",
          "name": "stdout",
          "text": [
            "4\n"
          ]
        }
      ]
    },
    {
      "cell_type": "markdown",
      "source": [
        "## Codeforces Round 950 (Div 4)"
      ],
      "metadata": {
        "id": "nkYwv674hnCV"
      }
    },
    {
      "cell_type": "markdown",
      "source": [
        "###  [A. Stair, Peak, or Neither?](https://codeforces.com/contest/1950/problem/0)"
      ],
      "metadata": {
        "id": "xYqQ1NP5hqrB"
      }
    },
    {
      "cell_type": "code",
      "source": [
        "def solve_problem(a, b, c):\n",
        "  if a < b and b < c:\n",
        "    return \"STAIR\"\n",
        "  elif a < b and b > c:\n",
        "    return \"PEAK\"\n",
        "  else:\n",
        "    return \"NONE\"\n",
        "\n",
        "t = int(input())\n",
        "for i in range(t):\n",
        "  a, b, c = [int(i) for i in input().split()]\n",
        "  print(solve_problem(a, b, c))"
      ],
      "metadata": {
        "colab": {
          "base_uri": "https://localhost:8080/"
        },
        "id": "ZfXAoDAWhxCM",
        "outputId": "77d93195-2f8d-4d77-8876-cd020d1cbd16"
      },
      "execution_count": null,
      "outputs": [
        {
          "output_type": "stream",
          "name": "stdout",
          "text": [
            "3\n",
            "1 2 3\n",
            "STAIR\n",
            "3 2 1\n",
            "NONE\n",
            "3 4 1\n",
            "PEAK\n"
          ]
        }
      ]
    },
    {
      "cell_type": "markdown",
      "source": [
        "### [B. Upscaling](https://codeforces.com/contest/1950/problem/B)"
      ],
      "metadata": {
        "id": "akB1aWHviz8w"
      }
    },
    {
      "cell_type": "code",
      "source": [
        "def solve_problem(n):\n",
        "  for i in range (n):\n",
        "    line = \"\"\n",
        "    for j in range(n):\n",
        "      if (i+j)%2 == 0:\n",
        "        line = line + \"##\"\n",
        "      else:\n",
        "        line = line + \"..\"\n",
        "    print(line)\n",
        "    print(line)\n",
        "\n",
        "\n",
        "\n",
        "t = int(input())\n",
        "for i in range(t):\n",
        "  n = int(input())\n",
        "  solve_problem(n)"
      ],
      "metadata": {
        "colab": {
          "base_uri": "https://localhost:8080/"
        },
        "id": "21raWigBi8C1",
        "outputId": "3fdb499d-9014-4e02-d53a-c1d23771a7b8"
      },
      "execution_count": null,
      "outputs": [
        {
          "output_type": "stream",
          "name": "stdout",
          "text": [
            "3\n",
            "2\n",
            "##..\n",
            "##..\n",
            "..##\n",
            "..##\n",
            "3\n",
            "##..##\n",
            "##..##\n",
            "..##..\n",
            "..##..\n",
            "##..##\n",
            "##..##\n",
            "4\n",
            "##..##..\n",
            "##..##..\n",
            "..##..##\n",
            "..##..##\n",
            "##..##..\n",
            "##..##..\n",
            "..##..##\n",
            "..##..##\n"
          ]
        }
      ]
    },
    {
      "cell_type": "markdown",
      "source": [
        "### [C. Clock Conversion](https://codeforces.com/contest/1950/problem/C)"
      ],
      "metadata": {
        "id": "oQP5YQA7lFHO"
      }
    },
    {
      "cell_type": "code",
      "source": [
        "def solve_problem(h, m):\n",
        "  int_h = int(h)\n",
        "  if int_h == 12:\n",
        "    print(f\"{h}:{m} PM\")\n",
        "  if int_h == 0:\n",
        "    print(f\"12:{m} AM\")\n",
        "  elif int_h < 12:\n",
        "    print(f\"{h}:{m} AM\")\n",
        "  elif int_h > 12:\n",
        "    print(f\"{str(int_h-12).zfill(2)}:{m} PM\")\n",
        "\n",
        "\n",
        "\n",
        "t = int(input())\n",
        "for i in range(t):\n",
        "  h, m = [i for i in input().split(':')]\n",
        "  solve_problem(h, m)"
      ],
      "metadata": {
        "colab": {
          "base_uri": "https://localhost:8080/"
        },
        "id": "0sHf5qTalJUa",
        "outputId": "81eaa5ce-4376-4a3b-b84b-ad31137e7c68"
      },
      "execution_count": null,
      "outputs": [
        {
          "output_type": "stream",
          "name": "stdout",
          "text": [
            "1\n",
            "14:55\n",
            "02:55 PM\n"
          ]
        }
      ]
    },
    {
      "cell_type": "markdown",
      "source": [
        "### [D. Product of Binary Decimals](https://codeforces.com/contest/1950/problem/D)"
      ],
      "metadata": {
        "id": "VZT3T-e5qo__"
      }
    },
    {
      "cell_type": "code",
      "source": [
        "def pre_compute():\n",
        "  bynary_numbers = set()\n",
        "  for j in range(1, 2**6+1):\n",
        "    text_number = \"\"\n",
        "    while j >0:\n",
        "      if j%2 == 0:\n",
        "        text_number = text_number + \"1\"\n",
        "      else:\n",
        "        text_number = text_number + \"0\"\n",
        "      j = j//2\n",
        "    bynary_numbers.add(int(text_number[::-1]))\n",
        "\n",
        "  valid_numbers = set({1})\n",
        "  for i in range(5):\n",
        "    for binary in bynary_numbers:\n",
        "      new_numbers = set()\n",
        "      for valid in valid_numbers:\n",
        "        product = binary * valid\n",
        "        if product <= 10**5:\n",
        "          new_numbers.add(product)\n",
        "      valid_numbers = valid_numbers.union(new_numbers)\n",
        "  return valid_numbers\n",
        "\n",
        "\n",
        "binary_products = pre_compute()\n",
        "t = int(input())\n",
        "for i in range(t):\n",
        "  n = int(input())\n",
        "  if n in binary_products:\n",
        "    print(\"YES\")\n",
        "  else:\n",
        "    print(\"NO\")"
      ],
      "metadata": {
        "colab": {
          "base_uri": "https://localhost:8080/"
        },
        "id": "yMTcEK-yqyEJ",
        "outputId": "5b3fb6d1-3146-41b1-82d4-58dfdbc8dd8c"
      },
      "execution_count": null,
      "outputs": [
        {
          "output_type": "stream",
          "name": "stdout",
          "text": [
            "11\n",
            "121\n",
            "YES\n",
            "1\n",
            "YES\n",
            "14641\n",
            "YES\n",
            "12221\n",
            "YES\n",
            "10110\n",
            "YES\n",
            "100000\n",
            "YES\n",
            "99\n",
            "NO\n",
            "112\n",
            "NO\n",
            "2024\n",
            "NO\n",
            "12421\n",
            "NO\n",
            "1001\n",
            "YES\n"
          ]
        }
      ]
    },
    {
      "cell_type": "markdown",
      "source": [
        "### [E. Nearly Shortest Repeating Substring ](https://codeforces.com/contest/1950/problem/E) - Not complete"
      ],
      "metadata": {
        "id": "h97NDqb4-M10"
      }
    },
    {
      "cell_type": "code",
      "source": [
        "def solve_problem(n, text):\n",
        "  f_letter = text[0]\n",
        "  distance = text.find(f_letter, 1)\n",
        "  index = 0\n",
        "  if len(text) % distance == 0:\n",
        "    while text[index] == f_letter:\n",
        "      index = index + d\n",
        "\n",
        "  pass\n",
        "\n",
        "\n",
        "\n",
        "t = int(input())\n",
        "for i in range(t):\n",
        "  n = int(input())\n",
        "  text = input()\n",
        "  solve_problem(n, text)"
      ],
      "metadata": {
        "id": "y6weA0gt-Wfz"
      },
      "execution_count": null,
      "outputs": []
    },
    {
      "cell_type": "markdown",
      "source": [
        "## [Code Forces Global Round 25](https://codeforces.com/contest/1951)"
      ],
      "metadata": {
        "id": "ZO8GlK5y5p7o"
      }
    },
    {
      "cell_type": "markdown",
      "source": [
        "### [A. Dual Trigger](https://codeforces.com/contest/1951/problem/0)"
      ],
      "metadata": {
        "id": "v47VWs9a50k1"
      }
    },
    {
      "cell_type": "code",
      "source": [
        "def solve_problem(n, s):\n",
        "  lamp_position = []\n",
        "  for i in range(n):\n",
        "    if s[i] == '1':\n",
        "      lamp_position.append(i)\n",
        "  n_lamps = len(lamp_position)\n",
        "  if n_lamps % 2 == 0:\n",
        "    for i in range(n_lamps//2):\n",
        "      if lamp_position[n_lamps//2 + i] - lamp_position[i] == 1:\n",
        "        return \"NO\"\n",
        "    return \"YES\"\n",
        "  else:\n",
        "    return \"NO\"\n",
        "\n",
        "\n",
        "t = int(input())\n",
        "for i in range(t):\n",
        "  n = int(input())\n",
        "  s = input()\n",
        "  print(solve_problem(n, s))"
      ],
      "metadata": {
        "colab": {
          "base_uri": "https://localhost:8080/"
        },
        "id": "daCPpvDP58tD",
        "outputId": "5f678d6a-a83c-442b-cf5a-cd1d1e61f845"
      },
      "execution_count": null,
      "outputs": [
        {
          "output_type": "stream",
          "name": "stdout",
          "text": [
            "4\n",
            "10\n",
            "1101010110\n",
            "[0, 1, 3, 5, 7, 8]\n",
            "YES\n",
            "6\n",
            "000000\n",
            "[]\n",
            "YES\n",
            "1\n",
            "1\n",
            "[0]\n",
            "NO\n",
            "12\n",
            "111111111111\n",
            "[0, 1, 2, 3, 4, 5, 6, 7, 8, 9, 10, 11]\n",
            "YES\n"
          ]
        }
      ]
    },
    {
      "cell_type": "markdown",
      "source": [
        "### [B. Battle Cows](https://codeforces.com/contest/1951/problem/B)"
      ],
      "metadata": {
        "id": "-VTR3oNVG3oA"
      }
    },
    {
      "cell_type": "code",
      "source": [
        "def solve_problem(n, k, all):\n",
        "  my_cow_rating = all[k-1]\n",
        "  i = 0\n",
        "  max_wins = []\n",
        "  actual_wins = 0\n",
        "  do_i_move = 0\n",
        "  bigger_cows = 0\n",
        "  while i < n and do_i_move == 0:\n",
        "    if all[i] < my_cow_rating:\n",
        "      actual_wins = actual_wins + 1\n",
        "    else:\n",
        "      if all[i] != my_cow_rating:\n",
        "        bigger_cows = bigger_cows + 1\n",
        "        do_i_move = 1\n",
        "        max_wins.append(actual_wins)\n",
        "      else:\n",
        "        max_wins.append(actual_wins)\n",
        "    i = i + 1\n",
        "  return max(max_wins)\n",
        "\n",
        "\n",
        "t = int(input())\n",
        "for i in range(t):\n",
        "  n, k = [int(i) for i in input().split()]\n",
        "  all = [int(i) for i in input().split()]\n",
        "  print(solve_problem(n, k, all))"
      ],
      "metadata": {
        "colab": {
          "base_uri": "https://localhost:8080/"
        },
        "id": "SR3e-Df9G2_i",
        "outputId": "4e5576a1-d854-42b2-d712-ec3591003afc"
      },
      "execution_count": null,
      "outputs": [
        {
          "output_type": "stream",
          "name": "stdout",
          "text": [
            "3\n",
            "6 1\n",
            "12 10 14 11 8 3\n",
            "1\n",
            "6 5\n",
            "7 2 727 10 12 13\n",
            "2\n",
            "2 2\n",
            "1000000000 1\n",
            "0\n"
          ]
        }
      ]
    },
    {
      "cell_type": "code",
      "source": [
        "def solve_problem(n, k, all):\n",
        "  my_cow_rating = all[k-1]\n",
        "  i = 0\n",
        "  bigger_cows = 0\n",
        "  bc_index = []\n",
        "  while i < n and bigger_cows < 2:\n",
        "    if all[i] > my_cow_rating or i == n-1:\n",
        "      bigger_cows = bigger_cows + 1\n",
        "      bc_index.append(i)\n",
        "    i = i + 1\n",
        "  if len(bc_index) == 1:\n",
        "    return n-1\n",
        "  else:\n",
        "    return max([bc_index[0] - 1, bc_index[1] - bc_index[0]])\n",
        "\n",
        "\n",
        "t = int(input())\n",
        "for i in range(t):\n",
        "  n, k = [int(i) for i in input().split()]\n",
        "  all = [int(i) for i in input().split()]\n",
        "  print(solve_problem(n, k, all))"
      ],
      "metadata": {
        "colab": {
          "base_uri": "https://localhost:8080/",
          "height": 436
        },
        "id": "GlDyVOF76C2S",
        "outputId": "805f9606-03d8-408d-b5cc-8311f95dd0c6"
      },
      "execution_count": null,
      "outputs": [
        {
          "output_type": "stream",
          "name": "stdout",
          "text": [
            "3\n",
            "6 1\n",
            "12 10 14 11 8 3\n",
            "3\n"
          ]
        },
        {
          "output_type": "error",
          "ename": "KeyboardInterrupt",
          "evalue": "Interrupted by user",
          "traceback": [
            "\u001b[0;31m---------------------------------------------------------------------------\u001b[0m",
            "\u001b[0;31mKeyboardInterrupt\u001b[0m                         Traceback (most recent call last)",
            "\u001b[0;32m<ipython-input-4-96cb7fdc1563>\u001b[0m in \u001b[0;36m<cell line: 18>\u001b[0;34m()\u001b[0m\n\u001b[1;32m     17\u001b[0m \u001b[0mt\u001b[0m \u001b[0;34m=\u001b[0m \u001b[0mint\u001b[0m\u001b[0;34m(\u001b[0m\u001b[0minput\u001b[0m\u001b[0;34m(\u001b[0m\u001b[0;34m)\u001b[0m\u001b[0;34m)\u001b[0m\u001b[0;34m\u001b[0m\u001b[0;34m\u001b[0m\u001b[0m\n\u001b[1;32m     18\u001b[0m \u001b[0;32mfor\u001b[0m \u001b[0mi\u001b[0m \u001b[0;32min\u001b[0m \u001b[0mrange\u001b[0m\u001b[0;34m(\u001b[0m\u001b[0mt\u001b[0m\u001b[0;34m)\u001b[0m\u001b[0;34m:\u001b[0m\u001b[0;34m\u001b[0m\u001b[0;34m\u001b[0m\u001b[0m\n\u001b[0;32m---> 19\u001b[0;31m   \u001b[0mn\u001b[0m\u001b[0;34m,\u001b[0m \u001b[0mk\u001b[0m \u001b[0;34m=\u001b[0m \u001b[0;34m[\u001b[0m\u001b[0mint\u001b[0m\u001b[0;34m(\u001b[0m\u001b[0mi\u001b[0m\u001b[0;34m)\u001b[0m \u001b[0;32mfor\u001b[0m \u001b[0mi\u001b[0m \u001b[0;32min\u001b[0m \u001b[0minput\u001b[0m\u001b[0;34m(\u001b[0m\u001b[0;34m)\u001b[0m\u001b[0;34m.\u001b[0m\u001b[0msplit\u001b[0m\u001b[0;34m(\u001b[0m\u001b[0;34m)\u001b[0m\u001b[0;34m]\u001b[0m\u001b[0;34m\u001b[0m\u001b[0;34m\u001b[0m\u001b[0m\n\u001b[0m\u001b[1;32m     20\u001b[0m   \u001b[0mall\u001b[0m \u001b[0;34m=\u001b[0m \u001b[0;34m[\u001b[0m\u001b[0mint\u001b[0m\u001b[0;34m(\u001b[0m\u001b[0mi\u001b[0m\u001b[0;34m)\u001b[0m \u001b[0;32mfor\u001b[0m \u001b[0mi\u001b[0m \u001b[0;32min\u001b[0m \u001b[0minput\u001b[0m\u001b[0;34m(\u001b[0m\u001b[0;34m)\u001b[0m\u001b[0;34m.\u001b[0m\u001b[0msplit\u001b[0m\u001b[0;34m(\u001b[0m\u001b[0;34m)\u001b[0m\u001b[0;34m]\u001b[0m\u001b[0;34m\u001b[0m\u001b[0;34m\u001b[0m\u001b[0m\n\u001b[1;32m     21\u001b[0m   \u001b[0mprint\u001b[0m\u001b[0;34m(\u001b[0m\u001b[0msolve_problem\u001b[0m\u001b[0;34m(\u001b[0m\u001b[0mn\u001b[0m\u001b[0;34m,\u001b[0m \u001b[0mk\u001b[0m\u001b[0;34m,\u001b[0m \u001b[0mall\u001b[0m\u001b[0;34m)\u001b[0m\u001b[0;34m)\u001b[0m\u001b[0;34m\u001b[0m\u001b[0;34m\u001b[0m\u001b[0m\n",
            "\u001b[0;32m/usr/local/lib/python3.10/dist-packages/ipykernel/kernelbase.py\u001b[0m in \u001b[0;36mraw_input\u001b[0;34m(self, prompt)\u001b[0m\n\u001b[1;32m    849\u001b[0m                 \u001b[0;34m\"raw_input was called, but this frontend does not support input requests.\"\u001b[0m\u001b[0;34m\u001b[0m\u001b[0;34m\u001b[0m\u001b[0m\n\u001b[1;32m    850\u001b[0m             )\n\u001b[0;32m--> 851\u001b[0;31m         return self._input_request(str(prompt),\n\u001b[0m\u001b[1;32m    852\u001b[0m             \u001b[0mself\u001b[0m\u001b[0;34m.\u001b[0m\u001b[0m_parent_ident\u001b[0m\u001b[0;34m,\u001b[0m\u001b[0;34m\u001b[0m\u001b[0;34m\u001b[0m\u001b[0m\n\u001b[1;32m    853\u001b[0m             \u001b[0mself\u001b[0m\u001b[0;34m.\u001b[0m\u001b[0m_parent_header\u001b[0m\u001b[0;34m,\u001b[0m\u001b[0;34m\u001b[0m\u001b[0;34m\u001b[0m\u001b[0m\n",
            "\u001b[0;32m/usr/local/lib/python3.10/dist-packages/ipykernel/kernelbase.py\u001b[0m in \u001b[0;36m_input_request\u001b[0;34m(self, prompt, ident, parent, password)\u001b[0m\n\u001b[1;32m    893\u001b[0m             \u001b[0;32mexcept\u001b[0m \u001b[0mKeyboardInterrupt\u001b[0m\u001b[0;34m:\u001b[0m\u001b[0;34m\u001b[0m\u001b[0;34m\u001b[0m\u001b[0m\n\u001b[1;32m    894\u001b[0m                 \u001b[0;31m# re-raise KeyboardInterrupt, to truncate traceback\u001b[0m\u001b[0;34m\u001b[0m\u001b[0;34m\u001b[0m\u001b[0m\n\u001b[0;32m--> 895\u001b[0;31m                 \u001b[0;32mraise\u001b[0m \u001b[0mKeyboardInterrupt\u001b[0m\u001b[0;34m(\u001b[0m\u001b[0;34m\"Interrupted by user\"\u001b[0m\u001b[0;34m)\u001b[0m \u001b[0;32mfrom\u001b[0m \u001b[0;32mNone\u001b[0m\u001b[0;34m\u001b[0m\u001b[0;34m\u001b[0m\u001b[0m\n\u001b[0m\u001b[1;32m    896\u001b[0m             \u001b[0;32mexcept\u001b[0m \u001b[0mException\u001b[0m \u001b[0;32mas\u001b[0m \u001b[0me\u001b[0m\u001b[0;34m:\u001b[0m\u001b[0;34m\u001b[0m\u001b[0;34m\u001b[0m\u001b[0m\n\u001b[1;32m    897\u001b[0m                 \u001b[0mself\u001b[0m\u001b[0;34m.\u001b[0m\u001b[0mlog\u001b[0m\u001b[0;34m.\u001b[0m\u001b[0mwarning\u001b[0m\u001b[0;34m(\u001b[0m\u001b[0;34m\"Invalid Message:\"\u001b[0m\u001b[0;34m,\u001b[0m \u001b[0mexc_info\u001b[0m\u001b[0;34m=\u001b[0m\u001b[0;32mTrue\u001b[0m\u001b[0;34m)\u001b[0m\u001b[0;34m\u001b[0m\u001b[0;34m\u001b[0m\u001b[0m\n",
            "\u001b[0;31mKeyboardInterrupt\u001b[0m: Interrupted by user"
          ]
        }
      ]
    },
    {
      "cell_type": "markdown",
      "source": [
        "## Training Camp - Vjudge 2024/07/02"
      ],
      "metadata": {
        "id": "9XJ0KMYwbEfr"
      }
    },
    {
      "cell_type": "markdown",
      "source": [
        "### A - Permutations\n",
        "\n",
        "https://vjudge.net/contest/637874#problem/A"
      ],
      "metadata": {
        "id": "w-MBMhrmbQfp"
      }
    },
    {
      "cell_type": "code",
      "source": [
        "def solve_problem(n):\n",
        "  if n == 1:\n",
        "    return \"1\"\n",
        "  elif n == 2 or n == 3:\n",
        "    return \"NO SOLUTION\"\n",
        "  else:\n",
        "    array = []\n",
        "    for i in range(2, n+1, 2):\n",
        "      array.append(str(i))\n",
        "    for i in range(1, n+1, 2):\n",
        "      array.append(str(i))\n",
        "\n",
        "    return ' '.join(array)\n",
        "\n",
        "\n",
        "n = int(input())\n",
        "print(solve_problem(n))"
      ],
      "metadata": {
        "colab": {
          "base_uri": "https://localhost:8080/"
        },
        "id": "XqNLE6iIc_Pp",
        "outputId": "1725ade1-3ff9-496f-f7cb-c8522d381832"
      },
      "execution_count": null,
      "outputs": [
        {
          "output_type": "stream",
          "name": "stdout",
          "text": [
            "4\n",
            "2 4 1 3\n"
          ]
        }
      ]
    },
    {
      "cell_type": "markdown",
      "source": [
        "### B - Increasing array\n",
        "\n",
        "https://vjudge.net/contest/637874#problem/B"
      ],
      "metadata": {
        "id": "QHVLSiHweKyI"
      }
    },
    {
      "cell_type": "code",
      "source": [
        "def solve_problem(n, X):\n",
        "  count = 0\n",
        "  max_num = 0\n",
        "  for i in X:\n",
        "    if max_num < i:\n",
        "      max_num = i\n",
        "    else:\n",
        "      count = count + (max_num - i)\n",
        "  return count\n",
        "\n",
        "\n",
        "\n",
        "n = int(input())\n",
        "X = [int(i) for i in input().split()]\n",
        "print(solve_problem(n, X))"
      ],
      "metadata": {
        "colab": {
          "base_uri": "https://localhost:8080/"
        },
        "id": "tgwMsMlYeboh",
        "outputId": "b409e4e9-d0ee-4bc0-886e-c82230ebc46e"
      },
      "execution_count": null,
      "outputs": [
        {
          "output_type": "stream",
          "name": "stdout",
          "text": [
            "5\n",
            "3 2 5 1 7\n",
            "5\n"
          ]
        }
      ]
    },
    {
      "cell_type": "markdown",
      "source": [
        "### C - Apartments\n",
        "\n",
        "https://vjudge.net/contest/637874#problem/C"
      ],
      "metadata": {
        "id": "_XRcHIIEis_e"
      }
    },
    {
      "cell_type": "code",
      "source": [
        "def solve_problem(desired_size, size, k):\n",
        "  desired_size.sort()\n",
        "  size.sort()\n",
        "  matches = 0\n",
        "  i = 0\n",
        "  j = 0\n",
        "  while i < len(desired_size) and j < len(size):\n",
        "    if abs(desired_size[i] - size[j]) <= k:\n",
        "      i = i + 1\n",
        "      j = j + 1\n",
        "      matches = matches + 1\n",
        "    elif desired_size[i] > size[j]:\n",
        "      j = j + 1\n",
        "    else:\n",
        "      i = i + 1\n",
        "  return matches\n",
        "\n",
        "\n",
        "\n",
        "\n",
        "n, m, k= [int(i) for i in input().split()]\n",
        "desired_size = [int(i) for i in input().split()]\n",
        "size = [int(i) for i in input().split()]\n",
        "print(solve_problem(desired_size, size, k))"
      ],
      "metadata": {
        "colab": {
          "base_uri": "https://localhost:8080/"
        },
        "id": "qRQZctR2jT-W",
        "outputId": "bc90d181-aad0-41c2-d986-0baf55830be0"
      },
      "execution_count": null,
      "outputs": [
        {
          "output_type": "stream",
          "name": "stdout",
          "text": [
            "4 3 5\n",
            "60 45 80 60\n",
            "30 60 75\n",
            "2\n"
          ]
        }
      ]
    },
    {
      "cell_type": "markdown",
      "source": [
        "### D - Way Too Long Words\n",
        "\n",
        "https://vjudge.net/contest/637874#problem/D"
      ],
      "metadata": {
        "id": "ixUvu20xhVtg"
      }
    },
    {
      "cell_type": "code",
      "source": [
        "def solve_problem(word):\n",
        "  n = len(word)\n",
        "  if n > 10:\n",
        "    solution = word[0] + str(n-2) + word[-1]\n",
        "    return solution\n",
        "  else:\n",
        "    return word\n",
        "\n",
        "\n",
        "\n",
        "t = int(input())\n",
        "for i in range(t):\n",
        "  word = input()\n",
        "  print(solve_problem(word))"
      ],
      "metadata": {
        "colab": {
          "base_uri": "https://localhost:8080/"
        },
        "id": "PtNax0NHhb3i",
        "outputId": "a8cc4f7e-bade-4e1b-ddff-c684d174a622"
      },
      "execution_count": null,
      "outputs": [
        {
          "output_type": "stream",
          "name": "stdout",
          "text": [
            "3\n",
            "localization\n",
            "l10n\n",
            "internationalization\n",
            "i18n\n",
            "pneumonoultramicroscopicsilicovolcanoconiosis\n",
            "p43s\n"
          ]
        }
      ]
    },
    {
      "cell_type": "markdown",
      "source": [
        "### E - Phone Numbers"
      ],
      "metadata": {
        "id": "jagdyMSVqC_B"
      }
    },
    {
      "cell_type": "code",
      "source": [
        "def solve_problem(n, text):\n",
        "  n_phones = 0\n",
        "  n_8 = 0\n",
        "  for char in text:\n",
        "    if char == '8':\n",
        "      n_8 = n_8 + 1\n",
        "  digits = n - n_8\n",
        "  n_digits = digits // 10\n",
        "  n_phones = min(n_8, n_digits)\n",
        "\n",
        "  n_8 = n_8 - n_phones\n",
        "  n_digits = n_digits - 10 * n_phones\n",
        "\n",
        "  while n_8 > 0:\n",
        "    if digits + n_8 >= 11:\n",
        "      n_phones = n_phones + 1\n",
        "      n_8 = n_8 - (11 - digits)\n",
        "      digits = 0\n",
        "    else:\n",
        "      n_8 = 0\n",
        "  return n_phones\n",
        "\n",
        "\n",
        "\n",
        "n = int(input())\n",
        "text = input()\n",
        "print(solve_problem(n, text))"
      ],
      "metadata": {
        "colab": {
          "base_uri": "https://localhost:8080/"
        },
        "id": "Blw_3n9VkOXl",
        "outputId": "357d4e50-2866-4663-b3cb-a761d0f4914a"
      },
      "execution_count": null,
      "outputs": [
        {
          "output_type": "stream",
          "name": "stdout",
          "text": [
            "11\n",
            "31415926535\n",
            "0\n"
          ]
        }
      ]
    },
    {
      "cell_type": "markdown",
      "source": [
        "## Training Camp - Vjudge 2024/07/03"
      ],
      "metadata": {
        "id": "6yvcrr639taG"
      }
    },
    {
      "cell_type": "markdown",
      "source": [
        "### A - Parentheses Balance\n",
        "\n",
        "https://vjudge.net/contest/637883#problem/A"
      ],
      "metadata": {
        "id": "Ksn7wsCV9xtW"
      }
    },
    {
      "cell_type": "code",
      "source": [
        "def solve_problem(word):\n",
        "  stack = []\n",
        "  for char in word:\n",
        "    if char == '(' or char == '[':\n",
        "      stack.append(char)\n",
        "    elif char == ']' and len(stack)>=1 and stack[-1] == '[':\n",
        "      stack.pop()\n",
        "    elif char == ')' and len(stack)>=1 and stack[-1] == '(':\n",
        "      stack.pop()\n",
        "    else:\n",
        "      return \"No\"\n",
        "\n",
        "  if len(stack) == 0:\n",
        "    return \"Yes\"\n",
        "  else:\n",
        "    return \"No\"\n",
        "\n",
        "\n",
        "\n",
        "t = int(input())\n",
        "for i in range(t):\n",
        "  word = input()\n",
        "  print(solve_problem(word))"
      ],
      "metadata": {
        "colab": {
          "base_uri": "https://localhost:8080/"
        },
        "id": "oq0BEuMu-JMF",
        "outputId": "5505fc83-7f0f-477e-8061-6c76d5ade791"
      },
      "execution_count": null,
      "outputs": [
        {
          "output_type": "stream",
          "name": "stdout",
          "text": [
            "1\n",
            ")\n",
            "No\n"
          ]
        }
      ]
    },
    {
      "cell_type": "markdown",
      "source": [
        "### B - Foreign Exhange\n",
        "\n",
        "https://vjudge.net/contest/637883#problem/B"
      ],
      "metadata": {
        "id": "73c9e1-QNfZt"
      }
    },
    {
      "cell_type": "code",
      "source": [
        "def check_dict(dictA):\n",
        "  sum = 0\n",
        "  for key in dictA:\n",
        "    if dictA[key] < 0:\n",
        "      return \"NO\"\n",
        "    else:\n",
        "      sum = sum + dictA[key]\n",
        "\n",
        "  if sum == 0:\n",
        "    return \"YES\"\n",
        "  else:\n",
        "    return \"NO\"\n",
        "\n",
        "t = int(input())\n",
        "while t > 0:\n",
        "  if t % 2 == 0 and t!=0:\n",
        "    dictA = {}\n",
        "    for i in range(t):\n",
        "      n, k = [int(i) for i in input().split()]\n",
        "      if (k, n) in dictA:\n",
        "        dictA[(k, n)] = dictA[(k,n)] - 1\n",
        "      elif (n, k) in dictA:\n",
        "        dictA[(n,k)] = dictA[(n,k)] + 1\n",
        "      else:\n",
        "        dictA[(n,k)] = 1\n",
        "\n",
        "    print(check_dict(dictA))\n",
        "    t = int(input())\n",
        "  else:\n",
        "    print(\"NO\")\n"
      ],
      "metadata": {
        "colab": {
          "base_uri": "https://localhost:8080/"
        },
        "id": "veQ1aBeCNi2A",
        "outputId": "f710ecbf-442e-4e32-d32c-b5900ff59b05"
      },
      "execution_count": null,
      "outputs": [
        {
          "name": "stdout",
          "output_type": "stream",
          "text": [
            "2\n",
            "1 2\n",
            "2 1\n",
            "YES\n",
            "0\n"
          ]
        }
      ]
    },
    {
      "cell_type": "markdown",
      "source": [
        "### D - Second Order Statistics"
      ],
      "metadata": {
        "id": "FPP5nCH8DatR"
      }
    },
    {
      "cell_type": "code",
      "source": [
        "def solve_problem(A):\n",
        "  A = list(set(A))\n",
        "  if len(A) < 2:\n",
        "    return \"NO\"\n",
        "  else:\n",
        "    stack = A[:2]\n",
        "    stack.sort()\n",
        "    for number in A[2:]:\n",
        "      if number < A[0]:\n",
        "        stack[1] = stack[0]\n",
        "        stack[0] = number\n",
        "      elif number > A[0] and number < A[1]:\n",
        "        stack[1] = number\n",
        "    return stack[1]\n",
        "\n",
        "n = int(input())\n",
        "A = [int(i) for i in input().split()]\n",
        "print(solve_problem(A))"
      ],
      "metadata": {
        "colab": {
          "base_uri": "https://localhost:8080/"
        },
        "id": "n5_vPO1PDZ9j",
        "outputId": "8c84f625-20ef-484c-b1a3-d4b352a9470c"
      },
      "execution_count": null,
      "outputs": [
        {
          "output_type": "stream",
          "name": "stdout",
          "text": [
            "1\n",
            "1 2 3 1 1\n",
            "[1, 2]\n",
            "2\n"
          ]
        }
      ]
    },
    {
      "cell_type": "code",
      "source": [
        "def solve_problem(A):\n",
        "  new_list = list(set(A))\n",
        "  if len(new_list) < 2:\n",
        "    return \"NO\"\n",
        "  else:\n",
        "    new_list.sort()\n",
        "    return new_list[1]\n",
        "\n",
        "\n",
        "n = int(input())\n",
        "A = [int(i) for i in input().split()]\n",
        "print(solve_problem(A))"
      ],
      "metadata": {
        "id": "oVideGRWXC4W"
      },
      "execution_count": null,
      "outputs": []
    },
    {
      "cell_type": "markdown",
      "source": [
        "### J - Watering Flowers\n",
        "\n",
        "https://vjudge.net/contest/637883#problem/J"
      ],
      "metadata": {
        "id": "DH6ekqgJkArR"
      }
    },
    {
      "cell_type": "code",
      "source": [
        "n, x1, y1, x2, y2 = [int(i) for i in input().split()]\n",
        "dist = []\n",
        "for i in range(n):\n",
        "  x, y = [int(i) for i in input().split()]\n",
        "  dist.append ( ( (x - x1)**2 + (y-y1)**2, (x - x2)**2 + (y-y2)**2 )  )\n",
        "\n",
        "dist.sort(key=lambda x: x[0])\n",
        "\n",
        "parcial_max = []\n",
        "max = 0\n",
        "for i in range(n):\n",
        "  if max < dist[-(i+1)][1]:\n",
        "    max = dist[-(i+1)][1]\n",
        "  parcial_max.append(max)\n",
        "\n",
        "sum_distances = []\n",
        "\n",
        "\n",
        "for i in range(n):\n",
        "  sum_distances.append( dist[i][0] + parcial_max[-i])\n",
        "\n",
        "print(min(sum_distances))"
      ],
      "metadata": {
        "colab": {
          "base_uri": "https://localhost:8080/"
        },
        "id": "2Xo0r3e5kAPf",
        "outputId": "fa92a35e-69ac-4a3c-b40c-34c5edd04e10"
      },
      "execution_count": null,
      "outputs": [
        {
          "output_type": "stream",
          "name": "stdout",
          "text": [
            "4 0 0 5 0\n",
            "9 4\n",
            "8 3\n",
            "-1 0\n",
            "1 4\n",
            "[(1, 36), (17, 32), (73, 18), (97, 32)]\n",
            "[32, 32, 32, 36]\n",
            "1\n",
            "32\n",
            "17\n",
            "36\n",
            "73\n",
            "32\n",
            "97\n",
            "32\n",
            "[33, 53, 105, 129]\n",
            "33\n"
          ]
        }
      ]
    },
    {
      "cell_type": "code",
      "source": [
        "2**3"
      ],
      "metadata": {
        "colab": {
          "base_uri": "https://localhost:8080/"
        },
        "id": "tZxNEREglRmS",
        "outputId": "1cea64b2-e434-4f70-df72-0639c4c69c42"
      },
      "execution_count": null,
      "outputs": [
        {
          "output_type": "execute_result",
          "data": {
            "text/plain": [
              "8"
            ]
          },
          "metadata": {},
          "execution_count": 58
        }
      ]
    },
    {
      "cell_type": "markdown",
      "source": [
        "### M - Max GCD 2\n",
        "\n",
        "https://vjudge.net/contest/637883#problem/M"
      ],
      "metadata": {
        "id": "0XX-TS0pZ9zw"
      }
    },
    {
      "cell_type": "markdown",
      "source": [],
      "metadata": {
        "id": "jacUBgVKYjUN"
      }
    },
    {
      "cell_type": "markdown",
      "source": [],
      "metadata": {
        "id": "i_5S_znTI3X4"
      }
    },
    {
      "cell_type": "code",
      "source": [
        "def solve_problem(a, b):\n",
        "  dif = b - a\n",
        "  for i in range(dif, 0, -1):\n",
        "    cell = (a + i - 1) // i\n",
        "    if (cell + 1) * i <= b:\n",
        "      return i\n",
        "\n",
        "\n",
        "a, b = [int(i) for i in input().split()]\n",
        "print(solve_problem(a, b))"
      ],
      "metadata": {
        "colab": {
          "base_uri": "https://localhost:8080/"
        },
        "id": "VYUDmKjUaCGM",
        "outputId": "205396cb-88cc-4686-f5b8-6faab5e37e75"
      },
      "execution_count": null,
      "outputs": [
        {
          "output_type": "stream",
          "name": "stdout",
          "text": [
            "101 139\n",
            "34\n"
          ]
        }
      ]
    },
    {
      "cell_type": "markdown",
      "source": [
        "## Training Camp - Vjudge 2024/07/04"
      ],
      "metadata": {
        "id": "3pRTD3k7YlFj"
      }
    },
    {
      "cell_type": "markdown",
      "source": [
        "### A - Team Competition: Programmers and Mathematicians\n",
        "\n",
        "https://vjudge.net/contest/638425#problem/A\n"
      ],
      "metadata": {
        "id": "5ITVLiPuI3zz"
      }
    },
    {
      "cell_type": "code",
      "source": [
        "def is_impossible(a, b, k):\n",
        "  \"\"\"\" Is it imppossible make K-teams?\"\"\"\n",
        "  if a-k >= 0 and b-k >= 0 and a+b >= 4*k:\n",
        "    return False # Its possible\n",
        "  else:\n",
        "    return True # Its impossible\n",
        "\n",
        "\n",
        "def solve_problem(a, b):\n",
        "  l = 0\n",
        "  r = min([a, b]) + 1\n",
        "  while l + 1 < r:\n",
        "    mid = (l + r + 1) // 2\n",
        "    if (is_impossible(a, b, mid)):\n",
        "      r = mid\n",
        "    else:\n",
        "      l = mid\n",
        "\n",
        "  return l\n",
        "\n",
        "t = int(input())\n",
        "for i in range(t):\n",
        "  a, b = [int(i) for i in input().split()]\n",
        "  print(solve_problem(a,b))"
      ],
      "metadata": {
        "colab": {
          "base_uri": "https://localhost:8080/"
        },
        "id": "7q2h-OpbJC65",
        "outputId": "7c584f0e-c23b-45da-8712-9235935a674b"
      },
      "execution_count": null,
      "outputs": [
        {
          "output_type": "stream",
          "name": "stdout",
          "text": [
            "6\n",
            "1000000000 1000000000\n",
            "mid=500000001 True\n",
            "mid=250000001 False\n",
            "mid=375000001 False\n",
            "mid=437500001 False\n",
            "mid=468750001 False\n",
            "mid=484375001 False\n",
            "mid=492187501 False\n",
            "mid=496093751 False\n",
            "mid=498046876 False\n",
            "mid=499023439 False\n",
            "mid=499511720 False\n",
            "mid=499755861 False\n",
            "mid=499877931 False\n",
            "mid=499938966 False\n",
            "mid=499969484 False\n",
            "mid=499984743 False\n",
            "mid=499992372 False\n",
            "mid=499996187 False\n",
            "mid=499998094 False\n",
            "mid=499999048 False\n",
            "mid=499999525 False\n",
            "mid=499999763 False\n",
            "mid=499999882 False\n",
            "mid=499999942 False\n",
            "mid=499999972 False\n",
            "mid=499999987 False\n",
            "mid=499999994 False\n",
            "mid=499999998 False\n",
            "mid=500000000 False\n",
            "500000000\n",
            "5 5\n",
            "mid=3 True\n",
            "mid=2 False\n",
            "2\n",
            "10 1\n",
            "mid=1 False\n",
            "1\n",
            "2 3\n",
            "mid=2 True\n",
            "mid=1 False\n",
            "1\n",
            "0 0\n",
            "0\n",
            "17 2\n",
            "mid=2 False\n",
            "2\n"
          ]
        }
      ]
    },
    {
      "cell_type": "markdown",
      "source": [
        "### B - Video Reviews\n",
        "\n",
        "https://vjudge.net/contest/638425#problem/B"
      ],
      "metadata": {
        "id": "Hgbbmgew-Jus"
      }
    },
    {
      "cell_type": "code",
      "source": [
        "def is_over_or_equal_m(all, k, m):\n",
        "  n_vid = how_many_videos(all, k)\n",
        "  return n_vid >= m\n",
        "\n",
        "def how_many_videos(all, k):\n",
        "  \"\"\" How may videos will be generated if we obligate k - videobloggers\"\"\"\n",
        "  n_vid = 0\n",
        "  for a in all:\n",
        "    if a <= n_vid:\n",
        "      n_vid = n_vid + 1\n",
        "    elif k > 0:\n",
        "      k = k - 1\n",
        "      n_vid = n_vid + 1\n",
        "  return n_vid\n",
        "\n",
        "\n",
        "def solve_problem(n, m, all):\n",
        "  l = -1\n",
        "  r = m + 1\n",
        "  while l + 1 < r:\n",
        "    mid = (l + r) // 2\n",
        "    if is_over_or_equal_m(all, mid, m):\n",
        "      r = mid\n",
        "    else:\n",
        "      l = mid\n",
        "\n",
        "  return r\n",
        "\n",
        "n, m = [int(i) for i in input().split()]\n",
        "all = [int(i) for i in input().split()]\n",
        "\n",
        "print(solve_problem(n, m, all))"
      ],
      "metadata": {
        "colab": {
          "base_uri": "https://localhost:8080/"
        },
        "id": "AgL-8gs1-Suz",
        "outputId": "9264067c-3d11-4f4a-a631-bc00e5578d4c"
      },
      "execution_count": null,
      "outputs": [
        {
          "output_type": "stream",
          "name": "stdout",
          "text": [
            "1 1\n",
            "0\n",
            "0\n"
          ]
        }
      ]
    },
    {
      "cell_type": "markdown",
      "source": [
        "### E - Little Nikita\n",
        "\n",
        "https://vjudge.net/contest/638425#problem/E"
      ],
      "metadata": {
        "id": "HjR8tB5_ZMHM"
      }
    },
    {
      "cell_type": "code",
      "source": [
        "def solve_problem(n, m):\n",
        "  if n>=m and n%2 == m%2:\n",
        "    return \"Yes\"\n",
        "  else:\n",
        "    return \"No\"\n",
        "\n",
        "t = int(input())\n",
        "for i in range(t):\n",
        "  n, m = [int(i) for i in input().split()]\n",
        "  print(solve_problem(n, m))"
      ],
      "metadata": {
        "colab": {
          "base_uri": "https://localhost:8080/",
          "height": 365
        },
        "id": "JxYyp98QYsRM",
        "outputId": "6f4a1734-d956-45be-d085-1e081593594e"
      },
      "execution_count": null,
      "outputs": [
        {
          "output_type": "error",
          "ename": "KeyboardInterrupt",
          "evalue": "Interrupted by user",
          "traceback": [
            "\u001b[0;31m---------------------------------------------------------------------------\u001b[0m",
            "\u001b[0;31mKeyboardInterrupt\u001b[0m                         Traceback (most recent call last)",
            "\u001b[0;32m<ipython-input-18-2824fda99c45>\u001b[0m in \u001b[0;36m<cell line: 7>\u001b[0;34m()\u001b[0m\n\u001b[1;32m      5\u001b[0m     \u001b[0;32mreturn\u001b[0m \u001b[0;34m\"No\"\u001b[0m\u001b[0;34m\u001b[0m\u001b[0;34m\u001b[0m\u001b[0m\n\u001b[1;32m      6\u001b[0m \u001b[0;34m\u001b[0m\u001b[0m\n\u001b[0;32m----> 7\u001b[0;31m \u001b[0mt\u001b[0m \u001b[0;34m=\u001b[0m \u001b[0mint\u001b[0m\u001b[0;34m(\u001b[0m\u001b[0minput\u001b[0m\u001b[0;34m(\u001b[0m\u001b[0;34m)\u001b[0m\u001b[0;34m)\u001b[0m\u001b[0;34m\u001b[0m\u001b[0;34m\u001b[0m\u001b[0m\n\u001b[0m\u001b[1;32m      8\u001b[0m \u001b[0;32mfor\u001b[0m \u001b[0mi\u001b[0m \u001b[0;32min\u001b[0m \u001b[0mrange\u001b[0m\u001b[0;34m(\u001b[0m\u001b[0mt\u001b[0m\u001b[0;34m)\u001b[0m\u001b[0;34m:\u001b[0m\u001b[0;34m\u001b[0m\u001b[0;34m\u001b[0m\u001b[0m\n\u001b[1;32m      9\u001b[0m   \u001b[0mn\u001b[0m\u001b[0;34m,\u001b[0m \u001b[0mm\u001b[0m \u001b[0;34m=\u001b[0m \u001b[0;34m[\u001b[0m\u001b[0mint\u001b[0m\u001b[0;34m(\u001b[0m\u001b[0mi\u001b[0m\u001b[0;34m)\u001b[0m \u001b[0;32mfor\u001b[0m \u001b[0mi\u001b[0m \u001b[0;32min\u001b[0m \u001b[0minput\u001b[0m\u001b[0;34m(\u001b[0m\u001b[0;34m)\u001b[0m\u001b[0;34m.\u001b[0m\u001b[0msplit\u001b[0m\u001b[0;34m(\u001b[0m\u001b[0;34m)\u001b[0m\u001b[0;34m]\u001b[0m\u001b[0;34m\u001b[0m\u001b[0;34m\u001b[0m\u001b[0m\n",
            "\u001b[0;32m/usr/local/lib/python3.10/dist-packages/ipykernel/kernelbase.py\u001b[0m in \u001b[0;36mraw_input\u001b[0;34m(self, prompt)\u001b[0m\n\u001b[1;32m    849\u001b[0m                 \u001b[0;34m\"raw_input was called, but this frontend does not support input requests.\"\u001b[0m\u001b[0;34m\u001b[0m\u001b[0;34m\u001b[0m\u001b[0m\n\u001b[1;32m    850\u001b[0m             )\n\u001b[0;32m--> 851\u001b[0;31m         return self._input_request(str(prompt),\n\u001b[0m\u001b[1;32m    852\u001b[0m             \u001b[0mself\u001b[0m\u001b[0;34m.\u001b[0m\u001b[0m_parent_ident\u001b[0m\u001b[0;34m,\u001b[0m\u001b[0;34m\u001b[0m\u001b[0;34m\u001b[0m\u001b[0m\n\u001b[1;32m    853\u001b[0m             \u001b[0mself\u001b[0m\u001b[0;34m.\u001b[0m\u001b[0m_parent_header\u001b[0m\u001b[0;34m,\u001b[0m\u001b[0;34m\u001b[0m\u001b[0;34m\u001b[0m\u001b[0m\n",
            "\u001b[0;32m/usr/local/lib/python3.10/dist-packages/ipykernel/kernelbase.py\u001b[0m in \u001b[0;36m_input_request\u001b[0;34m(self, prompt, ident, parent, password)\u001b[0m\n\u001b[1;32m    893\u001b[0m             \u001b[0;32mexcept\u001b[0m \u001b[0mKeyboardInterrupt\u001b[0m\u001b[0;34m:\u001b[0m\u001b[0;34m\u001b[0m\u001b[0;34m\u001b[0m\u001b[0m\n\u001b[1;32m    894\u001b[0m                 \u001b[0;31m# re-raise KeyboardInterrupt, to truncate traceback\u001b[0m\u001b[0;34m\u001b[0m\u001b[0;34m\u001b[0m\u001b[0m\n\u001b[0;32m--> 895\u001b[0;31m                 \u001b[0;32mraise\u001b[0m \u001b[0mKeyboardInterrupt\u001b[0m\u001b[0;34m(\u001b[0m\u001b[0;34m\"Interrupted by user\"\u001b[0m\u001b[0;34m)\u001b[0m \u001b[0;32mfrom\u001b[0m \u001b[0;32mNone\u001b[0m\u001b[0;34m\u001b[0m\u001b[0;34m\u001b[0m\u001b[0m\n\u001b[0m\u001b[1;32m    896\u001b[0m             \u001b[0;32mexcept\u001b[0m \u001b[0mException\u001b[0m \u001b[0;32mas\u001b[0m \u001b[0me\u001b[0m\u001b[0;34m:\u001b[0m\u001b[0;34m\u001b[0m\u001b[0;34m\u001b[0m\u001b[0m\n\u001b[1;32m    897\u001b[0m                 \u001b[0mself\u001b[0m\u001b[0;34m.\u001b[0m\u001b[0mlog\u001b[0m\u001b[0;34m.\u001b[0m\u001b[0mwarning\u001b[0m\u001b[0;34m(\u001b[0m\u001b[0;34m\"Invalid Message:\"\u001b[0m\u001b[0;34m,\u001b[0m \u001b[0mexc_info\u001b[0m\u001b[0;34m=\u001b[0m\u001b[0;32mTrue\u001b[0m\u001b[0;34m)\u001b[0m\u001b[0;34m\u001b[0m\u001b[0;34m\u001b[0m\u001b[0m\n",
            "\u001b[0;31mKeyboardInterrupt\u001b[0m: Interrupted by user"
          ]
        }
      ]
    },
    {
      "cell_type": "markdown",
      "source": [
        "### G - Inhabitant of the Deep Sea\n",
        "\n",
        "https://vjudge.net/contest/638425#problem/G"
      ],
      "metadata": {
        "id": "Eg_b1E3if98j"
      }
    },
    {
      "cell_type": "code",
      "source": [
        "def solve_problem(n, k, ships):\n",
        "  l = (k + 1) // 2\n",
        "  r = k - l\n",
        "  sinks = 0\n",
        "  l_index = 0\n",
        "  while l > 0 and l_index < n:\n",
        "    if ships[l_index] > 0:\n",
        "      if l - ships[l_index] >= 0:\n",
        "        l = l - ships[l_index]\n",
        "        ships[l_index] = 0\n",
        "        sinks = sinks + 1\n",
        "      else:\n",
        "        ships[l_index] = ships[l_index] - l\n",
        "        l_index = n + 1\n",
        "    l_index = l_index + 1\n",
        "\n",
        "  r_index = 1\n",
        "  while r > 0 and r_index <= n:\n",
        "    if ships[-1* r_index] > 0:\n",
        "      if r - ships[-1 * r_index] >= 0:\n",
        "        r = r - ships[-1 * r_index]\n",
        "        ships[-1 * r_index] = 0\n",
        "        sinks = sinks + 1\n",
        "      else:\n",
        "        r_index = n + 1\n",
        "    r_index = r_index + 1\n",
        "\n",
        "  return sinks\n",
        "\n",
        "\n",
        "t = int(input())\n",
        "for i in range(t):\n",
        "  n, k = [int(i) for i in input().split()]\n",
        "  ships = [int(i) for i in input().split()]\n",
        "  print(solve_problem(n, k, ships))"
      ],
      "metadata": {
        "colab": {
          "base_uri": "https://localhost:8080/"
        },
        "id": "Y35qMk07TRgh",
        "outputId": "93a8b0b8-50e2-456a-b746-90ce92eb0b09"
      },
      "execution_count": null,
      "outputs": [
        {
          "output_type": "stream",
          "name": "stdout",
          "text": [
            "1\n",
            "2 2\n",
            "3 2\n",
            "[3, 2]\n",
            "l=1\n",
            "l_index=0\n",
            "solve_problem(n, k, ships)=0\n"
          ]
        }
      ]
    },
    {
      "cell_type": "markdown",
      "source": [
        "## Training Camp 2024/07/05"
      ],
      "metadata": {
        "id": "M6ebhvJsIdqc"
      }
    },
    {
      "cell_type": "markdown",
      "source": [
        "### A - Two Divisors\n",
        "\n",
        "https://vjudge.net/contest/637889#problem/A"
      ],
      "metadata": {
        "id": "yQ5WmB6MIsVi"
      }
    },
    {
      "cell_type": "code",
      "source": [
        "def compute_gcd(x, y):\n",
        "\n",
        "   while(y):\n",
        "       x, y = y, x % y\n",
        "   return x\n",
        "\n",
        "# This function computes LCM\n",
        "def compute_lcm(x, y):\n",
        "   lcm = (x*y)//compute_gcd(x,y)\n",
        "   return lcm\n",
        "\n",
        "def solve_problem(a,b):\n",
        "  lcm = compute_lcm(a,b)\n",
        "  if lcm != max([a,b]):\n",
        "    # cuando el mcm(a, b) es distinto a max(a, b)\n",
        "    return lcm\n",
        "  elif a == 1:\n",
        "    return b**2\n",
        "  else:\n",
        "    gcd = compute_gcd(a,b)\n",
        "    return lcm * (b // gcd)\n",
        "\n",
        "\n",
        "t = int(input())\n",
        "for i in range(t):\n",
        "  a, b = [int(i) for i in input().split()]\n",
        "  print(solve_problem(a,b))"
      ],
      "metadata": {
        "id": "xdwS2OEeIw4l"
      },
      "execution_count": null,
      "outputs": []
    },
    {
      "cell_type": "code",
      "source": [
        "def compute_gcd(x, y):\n",
        "\n",
        "   while(y):\n",
        "       x, y = y, x % y\n",
        "   return x\n",
        "\n",
        "compute_gcd(1, 2)"
      ],
      "metadata": {
        "colab": {
          "base_uri": "https://localhost:8080/"
        },
        "id": "lTSv4t70zAzi",
        "outputId": "9fd6cad4-7ea0-439c-a44e-128187f88480"
      },
      "execution_count": 12,
      "outputs": [
        {
          "output_type": "execute_result",
          "data": {
            "text/plain": [
              "1"
            ]
          },
          "metadata": {},
          "execution_count": 12
        }
      ]
    },
    {
      "cell_type": "markdown",
      "source": [
        "### B - 2023\n",
        "\n",
        "https://vjudge.net/contest/637889#problem/B"
      ],
      "metadata": {
        "id": "4rW9g6oiX0z-"
      }
    },
    {
      "cell_type": "code",
      "source": [
        "def solve_problem(n, k, all):\n",
        "  for num in all:\n",
        "    if num not in [1, 7, 17, 119, 289, 2023]:\n",
        "      return \"NO\"\n",
        "\n",
        "  count = 0\n",
        "  for num in all:\n",
        "    if num == 7:\n",
        "      count = count + 1\n",
        "  if count > 1:\n",
        "    return \"NO\"\n",
        "\n",
        "  count = 0\n",
        "  for num in all:\n",
        "    if num == 17:\n",
        "      count = count + 1\n",
        "  if count > 2:\n",
        "    return \"NO\"\n",
        "\n",
        "\n",
        "  mult = 1\n",
        "  for num in all:\n",
        "    mult = mult*num\n",
        "\n",
        "  if mult > 2023:\n",
        "    return \"NO\"\n",
        "  else:\n",
        "    print(\"YES\")\n",
        "    solution = [str(2023 // mult)]\n",
        "    for i in range(k - 1):\n",
        "      solution.append(\"1\")\n",
        "  return ' '.join(solution)\n",
        "\n",
        "t = int(input())\n",
        "for i in range(t):\n",
        "  n, k  = [int(i) for i in input().split()]\n",
        "  all = [int(i) for i in input().split()]\n",
        "  print(solve_problem(n, k, all))"
      ],
      "metadata": {
        "colab": {
          "base_uri": "https://localhost:8080/",
          "height": 537
        },
        "id": "kJJ7TpSOX4Of",
        "outputId": "8925a60b-316a-4c99-ce5e-9bfdb064cf30"
      },
      "execution_count": null,
      "outputs": [
        {
          "name": "stdout",
          "output_type": "stream",
          "text": [
            "7 \n",
            "2 2\n",
            "5 2\n",
            "NO\n",
            "3 1\n",
            "7 17 7\n",
            "YES\n",
            "YES\n",
            "YES\n",
            "2\n",
            "a\n"
          ]
        },
        {
          "output_type": "error",
          "ename": "ValueError",
          "evalue": "invalid literal for int() with base 10: 'a'",
          "traceback": [
            "\u001b[0;31m---------------------------------------------------------------------------\u001b[0m",
            "\u001b[0;31mValueError\u001b[0m                                Traceback (most recent call last)",
            "\u001b[0;32m<ipython-input-1-b5465eaa6abb>\u001b[0m in \u001b[0;36m<cell line: 19>\u001b[0;34m()\u001b[0m\n\u001b[1;32m     18\u001b[0m \u001b[0mt\u001b[0m \u001b[0;34m=\u001b[0m \u001b[0mint\u001b[0m\u001b[0;34m(\u001b[0m\u001b[0minput\u001b[0m\u001b[0;34m(\u001b[0m\u001b[0;34m)\u001b[0m\u001b[0;34m)\u001b[0m\u001b[0;34m\u001b[0m\u001b[0;34m\u001b[0m\u001b[0m\n\u001b[1;32m     19\u001b[0m \u001b[0;32mfor\u001b[0m \u001b[0mi\u001b[0m \u001b[0;32min\u001b[0m \u001b[0mrange\u001b[0m\u001b[0;34m(\u001b[0m\u001b[0mt\u001b[0m\u001b[0;34m)\u001b[0m\u001b[0;34m:\u001b[0m\u001b[0;34m\u001b[0m\u001b[0;34m\u001b[0m\u001b[0m\n\u001b[0;32m---> 20\u001b[0;31m   \u001b[0mn\u001b[0m\u001b[0;34m,\u001b[0m \u001b[0mk\u001b[0m  \u001b[0;34m=\u001b[0m \u001b[0;34m[\u001b[0m\u001b[0mint\u001b[0m\u001b[0;34m(\u001b[0m\u001b[0mi\u001b[0m\u001b[0;34m)\u001b[0m \u001b[0;32mfor\u001b[0m \u001b[0mi\u001b[0m \u001b[0;32min\u001b[0m \u001b[0minput\u001b[0m\u001b[0;34m(\u001b[0m\u001b[0;34m)\u001b[0m\u001b[0;34m.\u001b[0m\u001b[0msplit\u001b[0m\u001b[0;34m(\u001b[0m\u001b[0;34m)\u001b[0m\u001b[0;34m]\u001b[0m\u001b[0;34m\u001b[0m\u001b[0;34m\u001b[0m\u001b[0m\n\u001b[0m\u001b[1;32m     21\u001b[0m   \u001b[0mall\u001b[0m \u001b[0;34m=\u001b[0m \u001b[0;34m[\u001b[0m\u001b[0mint\u001b[0m\u001b[0;34m(\u001b[0m\u001b[0mi\u001b[0m\u001b[0;34m)\u001b[0m \u001b[0;32mfor\u001b[0m \u001b[0mi\u001b[0m \u001b[0;32min\u001b[0m \u001b[0minput\u001b[0m\u001b[0;34m(\u001b[0m\u001b[0;34m)\u001b[0m\u001b[0;34m.\u001b[0m\u001b[0msplit\u001b[0m\u001b[0;34m(\u001b[0m\u001b[0;34m)\u001b[0m\u001b[0;34m]\u001b[0m\u001b[0;34m\u001b[0m\u001b[0;34m\u001b[0m\u001b[0m\n\u001b[1;32m     22\u001b[0m   \u001b[0mprint\u001b[0m\u001b[0;34m(\u001b[0m\u001b[0msolve_problem\u001b[0m\u001b[0;34m(\u001b[0m\u001b[0mn\u001b[0m\u001b[0;34m,\u001b[0m \u001b[0mk\u001b[0m\u001b[0;34m,\u001b[0m \u001b[0mall\u001b[0m\u001b[0;34m)\u001b[0m\u001b[0;34m)\u001b[0m\u001b[0;34m\u001b[0m\u001b[0;34m\u001b[0m\u001b[0m\n",
            "\u001b[0;32m<ipython-input-1-b5465eaa6abb>\u001b[0m in \u001b[0;36m<listcomp>\u001b[0;34m(.0)\u001b[0m\n\u001b[1;32m     18\u001b[0m \u001b[0mt\u001b[0m \u001b[0;34m=\u001b[0m \u001b[0mint\u001b[0m\u001b[0;34m(\u001b[0m\u001b[0minput\u001b[0m\u001b[0;34m(\u001b[0m\u001b[0;34m)\u001b[0m\u001b[0;34m)\u001b[0m\u001b[0;34m\u001b[0m\u001b[0;34m\u001b[0m\u001b[0m\n\u001b[1;32m     19\u001b[0m \u001b[0;32mfor\u001b[0m \u001b[0mi\u001b[0m \u001b[0;32min\u001b[0m \u001b[0mrange\u001b[0m\u001b[0;34m(\u001b[0m\u001b[0mt\u001b[0m\u001b[0;34m)\u001b[0m\u001b[0;34m:\u001b[0m\u001b[0;34m\u001b[0m\u001b[0;34m\u001b[0m\u001b[0m\n\u001b[0;32m---> 20\u001b[0;31m   \u001b[0mn\u001b[0m\u001b[0;34m,\u001b[0m \u001b[0mk\u001b[0m  \u001b[0;34m=\u001b[0m \u001b[0;34m[\u001b[0m\u001b[0mint\u001b[0m\u001b[0;34m(\u001b[0m\u001b[0mi\u001b[0m\u001b[0;34m)\u001b[0m \u001b[0;32mfor\u001b[0m \u001b[0mi\u001b[0m \u001b[0;32min\u001b[0m \u001b[0minput\u001b[0m\u001b[0;34m(\u001b[0m\u001b[0;34m)\u001b[0m\u001b[0;34m.\u001b[0m\u001b[0msplit\u001b[0m\u001b[0;34m(\u001b[0m\u001b[0;34m)\u001b[0m\u001b[0;34m]\u001b[0m\u001b[0;34m\u001b[0m\u001b[0;34m\u001b[0m\u001b[0m\n\u001b[0m\u001b[1;32m     21\u001b[0m   \u001b[0mall\u001b[0m \u001b[0;34m=\u001b[0m \u001b[0;34m[\u001b[0m\u001b[0mint\u001b[0m\u001b[0;34m(\u001b[0m\u001b[0mi\u001b[0m\u001b[0;34m)\u001b[0m \u001b[0;32mfor\u001b[0m \u001b[0mi\u001b[0m \u001b[0;32min\u001b[0m \u001b[0minput\u001b[0m\u001b[0;34m(\u001b[0m\u001b[0;34m)\u001b[0m\u001b[0;34m.\u001b[0m\u001b[0msplit\u001b[0m\u001b[0;34m(\u001b[0m\u001b[0;34m)\u001b[0m\u001b[0;34m]\u001b[0m\u001b[0;34m\u001b[0m\u001b[0;34m\u001b[0m\u001b[0m\n\u001b[1;32m     22\u001b[0m   \u001b[0mprint\u001b[0m\u001b[0;34m(\u001b[0m\u001b[0msolve_problem\u001b[0m\u001b[0;34m(\u001b[0m\u001b[0mn\u001b[0m\u001b[0;34m,\u001b[0m \u001b[0mk\u001b[0m\u001b[0;34m,\u001b[0m \u001b[0mall\u001b[0m\u001b[0;34m)\u001b[0m\u001b[0;34m)\u001b[0m\u001b[0;34m\u001b[0m\u001b[0;34m\u001b[0m\u001b[0m\n",
            "\u001b[0;31mValueError\u001b[0m: invalid literal for int() with base 10: 'a'"
          ]
        }
      ]
    },
    {
      "cell_type": "markdown",
      "source": [
        "### F - Watermelon\n",
        "\n",
        "https://vjudge.net/contest/637889#problem/F"
      ],
      "metadata": {
        "id": "y5LikEDKMCR8"
      }
    },
    {
      "cell_type": "code",
      "source": [
        "def solve_problem(n):\n",
        "  if n >= 4 and (n-2)%2 == 0:\n",
        "    return \"YES\"\n",
        "  else:\n",
        "    return \"NO\"\n",
        "\n",
        "\n",
        "n = int(input())\n",
        "print(solve_problem(n))"
      ],
      "metadata": {
        "id": "J4uvXTnPMG-1"
      },
      "execution_count": null,
      "outputs": []
    },
    {
      "cell_type": "markdown",
      "source": [
        "### G - Fair Playoff\n",
        "\n",
        "https://vjudge.net/contest/637889#problem/G"
      ],
      "metadata": {
        "id": "a5TRdBxCTgZx"
      }
    },
    {
      "cell_type": "code",
      "source": [
        "def solve_problem(all):\n",
        "  max_1 = max(all[0:2])\n",
        "  max_2 = max(all[2:])\n",
        "  all.sort()\n",
        "  if max_1 in all[2:] and max_2 in all[2:]:\n",
        "    return \"YES\"\n",
        "  else:\n",
        "    return \"NO\"\n",
        "\n",
        "\n",
        "n = int(input())\n",
        "for i in range(n):\n",
        "  all = [int(i) for i in input().split()]\n",
        "  print(solve_problem(all))"
      ],
      "metadata": {
        "id": "dTtKnTk_Tke-"
      },
      "execution_count": null,
      "outputs": []
    },
    {
      "cell_type": "markdown",
      "source": [
        "### H - Two Movies\n",
        "\n",
        "https://vjudge.net/contest/637889#problem/H"
      ],
      "metadata": {
        "id": "JacMC_eTg5wv"
      }
    },
    {
      "cell_type": "code",
      "source": [
        "def solve_problem(n, mov1, mov2):\n",
        "  count = {}\n",
        "  posible_values = [\n",
        "      '1,1',\n",
        "      '1,0', # Done\n",
        "      '1,-1', # Done\n",
        "      '0,1', # Done\n",
        "      '0,0', # Done\n",
        "      '0,-1', # Done\n",
        "      '-1,1', # Done\n",
        "      '-1,0', # Done\n",
        "      '-1,-1']\n",
        "  for val in posible_values:\n",
        "    count[val] = 0\n",
        "\n",
        "  for i in range(n):\n",
        "    key = f\"{mov1[i]},{mov2[i]}\"\n",
        "    count[key] = count[key] + 1\n",
        "\n",
        "  r_mov1 = count['1,0'] + count['1,-1']\n",
        "  r_mov2 = count['0,1'] + count['-1,1']\n",
        "\n",
        "  maxed = max([r_mov1, r_mov2])\n",
        "  mined = min([r_mov1, r_mov2])\n",
        "\n",
        "  if count['1,1'] <= maxed - mined:\n",
        "    mined = mined + count['1,1']\n",
        "  else:\n",
        "    restantes = count['1,1'] - (maxed - mined)\n",
        "    mined = maxed + ((restantes) // 2)\n",
        "    maxed = maxed + ((restantes + 1) // 2)\n",
        "\n",
        "  if count['-1,-1'] <= maxed - mined:\n",
        "    maxed = maxed - count['-1,-1']\n",
        "  else:\n",
        "    restantes = count['-1,-1'] - (maxed - mined)\n",
        "    maxed = mined - ((restantes) // 2)\n",
        "    mined = mined - ((restantes + 1) // 2)\n",
        "\n",
        "  return min([maxed, mined])\n",
        "\n",
        "\n",
        "t = int(input())\n",
        "for i in range(t):\n",
        "  n = int(input())\n",
        "  mov1 = list(input().split())\n",
        "  mov2 = list(input().split())\n",
        "  print(solve_problem(n, mov1, mov2))"
      ],
      "metadata": {
        "id": "mxy51LJZg-Ky",
        "colab": {
          "base_uri": "https://localhost:8080/"
        },
        "outputId": "3e7176e5-f8a1-47fe-f239-771d2ab00e88"
      },
      "execution_count": 10,
      "outputs": [
        {
          "output_type": "stream",
          "name": "stdout",
          "text": [
            "1\n",
            "4\n",
            "-1 -1 -1 1\n",
            "-1 1 1 1\n",
            "{'1,1': 1, '1,0': 0, '1,-1': 0, '0,1': 0, '0,0': 0, '0,-1': 0, '-1,1': 2, '-1,0': 0, '-1,-1': 1}\n",
            "maxed=2\n",
            "mined=0\n",
            "maxed=2\n",
            "mined=1\n",
            "maxed=1\n",
            "mined=1\n",
            "1\n"
          ]
        }
      ]
    },
    {
      "cell_type": "markdown",
      "source": [
        "### I - Beautiful Array\n",
        "\n",
        "https://vjudge.net/contest/637889#problem/I"
      ],
      "metadata": {
        "id": "avgkKzOf9d7h"
      }
    },
    {
      "cell_type": "code",
      "source": [
        "def solve_problem(n, k, all):\n",
        "  all.sort()\n",
        "  values = {}\n",
        "  count = {}\n",
        "\n",
        "  for val in all:\n",
        "    mod = val % k\n",
        "\n",
        "    if mod not in count:\n",
        "      count[mod] = 0\n",
        "    if mod not in values:\n",
        "      values[mod] = []\n",
        "\n",
        "    count[mod] = count[mod] + 1\n",
        "    values[mod].append(val)\n",
        "\n",
        "  # Retorno -1 si no es posible crear el arreglo hermoso\n",
        "  if n%2 == 0:\n",
        "    for mod in count:\n",
        "      if count[mod] %2 == 1: # No pueden haber impares\n",
        "        return -1\n",
        "  else:\n",
        "    n_impar = 0\n",
        "    for mod in count:\n",
        "      if count[mod] % 2 == 1: # A lo más hay un impar\n",
        "        n_impar = n_impar + 1\n",
        "        if n_impar >1:\n",
        "          return -1\n",
        "\n",
        "  cost = 0\n",
        "  for mod in values:\n",
        "    if count[mod] % 2 == 0:\n",
        "      for i in range(1, count[mod], 2):\n",
        "        cost = cost + ((values[mod][i] - values[mod][i-1]) // k)\n",
        "    else:\n",
        "      min_cost = 10000000000000\n",
        "      for k in range(count[mod]):\n",
        "        partial_cost = 0\n",
        "        new_array = values[mod][:k]\n",
        "        new_array.extend(values[mod][k+1:])\n",
        "        for i in range(1, count[mod], 2):\n",
        "          partial_cost = partial_cost + ((new_array[i] - new_array[i-1]) // k)\n",
        "\n",
        "        if min_cost > partial_cost:\n",
        "          min_cost = partial_cost\n",
        "\n",
        "      cost = cost + min_cost\n",
        "\n",
        "  return cost\n",
        "\n",
        "\n",
        "t = int(input())\n",
        "for i in range(t):\n",
        "  n, k = [int(i) for i in input().split()]\n",
        "  all = [int(i) for i in input().split()]\n",
        "  print(solve_problem(n, k, all))"
      ],
      "metadata": {
        "colab": {
          "base_uri": "https://localhost:8080/"
        },
        "id": "FJMGzQ6jtDNy",
        "outputId": "e30dd870-ca70-470d-d6ba-f9c3a2013da0"
      },
      "execution_count": 22,
      "outputs": [
        {
          "output_type": "stream",
          "name": "stdout",
          "text": [
            "1\n",
            "5 1\n",
            "2 3 5 3 5\n",
            "3\n"
          ]
        }
      ]
    },
    {
      "cell_type": "markdown",
      "source": [],
      "metadata": {
        "id": "eRA_qtElLRS2"
      }
    },
    {
      "cell_type": "code",
      "source": [
        "B = [2,3,4,5]\n",
        "\n",
        "A = B[:0]\n",
        "A.extend(B[0+1:])\n",
        "print(A)"
      ],
      "metadata": {
        "colab": {
          "base_uri": "https://localhost:8080/"
        },
        "id": "iDFOFpBL-2zN",
        "outputId": "0c19bb66-6412-4229-b583-5b77b9a0c7e2"
      },
      "execution_count": 28,
      "outputs": [
        {
          "output_type": "stream",
          "name": "stdout",
          "text": [
            "[3, 4, 5]\n"
          ]
        }
      ]
    },
    {
      "cell_type": "markdown",
      "source": [
        "### M - Make it white\n",
        "\n",
        "https://vjudge.net/contest/637889#problem/M"
      ],
      "metadata": {
        "id": "1h-CAa0NPNnp"
      }
    },
    {
      "cell_type": "code",
      "source": [
        "def solve_problem(n, s):\n",
        "  l = 0\n",
        "  flag = 0\n",
        "  while l < n and flag == 0:\n",
        "    if s[l] == 'B':\n",
        "      flag = 1\n",
        "    l = l + 1\n",
        "\n",
        "  r = 1\n",
        "  flag = 0\n",
        "  while r <= n and flag == 0:\n",
        "    if s[-1* r] == 'B':\n",
        "      flag = 1\n",
        "    r = r + 1\n",
        "\n",
        "  r = n - r + 1 # index of r\n",
        "  return r - l + 2\n",
        "\n",
        "t = int(input())\n",
        "for i in range(t):\n",
        "  n = int(input())\n",
        "  s = input()\n",
        "  print(solve_problem(n, s))"
      ],
      "metadata": {
        "id": "PvzEjnG1PS0i"
      },
      "execution_count": null,
      "outputs": []
    },
    {
      "cell_type": "markdown",
      "source": [
        "### N - Team Composition: Programmers and Mathematicians\n",
        "\n",
        "https://vjudge.net/contest/637889#problem/N"
      ],
      "metadata": {
        "id": "K9IeWjSlN8U1"
      }
    },
    {
      "cell_type": "code",
      "source": [
        "def is_impossible(a, b, k):\n",
        "  \"\"\"\" Is it imppossible make K-teams?\"\"\"\n",
        "  if a-k >= 0 and b-k >= 0 and a+b >= 4*k:\n",
        "    return False # Its possible\n",
        "  else:\n",
        "    return True # Its impossible\n",
        "\n",
        "\n",
        "def solve_problem(a, b):\n",
        "  l = 0\n",
        "  r = min([a, b]) + 1\n",
        "  while l + 1 < r:\n",
        "    mid = (l + r + 1) // 2\n",
        "    if (is_impossible(a, b, mid)):\n",
        "      r = mid\n",
        "    else:\n",
        "      l = mid\n",
        "\n",
        "  return l\n",
        "\n",
        "t = int(input())\n",
        "for i in range(t):\n",
        "  a, b = [int(i) for i in input().split()]\n",
        "  print(solve_problem(a,b))"
      ],
      "metadata": {
        "id": "UlXtIL4xOAwm"
      },
      "execution_count": null,
      "outputs": []
    },
    {
      "cell_type": "markdown",
      "source": [
        "## Training Cammp 2024/07/08"
      ],
      "metadata": {
        "id": "duhN1_X7lKqT"
      }
    },
    {
      "cell_type": "markdown",
      "source": [
        "### A - Substrings Sort\n",
        "\n",
        "https://vjudge.net/contest/639169#problem/A"
      ],
      "metadata": {
        "id": "vjWYxnBolO6w"
      }
    },
    {
      "cell_type": "code",
      "source": [
        "def solve_problem(n, all):\n",
        "  all.sort()\n",
        "  all.sort(key= lambda x: x[0])\n",
        "  flag = 0\n",
        "  for i in range(n-1):\n",
        "    if all[i][1] not in all[i+1][1]:\n",
        "      flag = 1\n",
        "\n",
        "  if flag == 1:\n",
        "    print(\"NO\")\n",
        "  else:\n",
        "    print(\"YES\")\n",
        "    for _, word in all:\n",
        "      print(word)\n",
        "  return None\n",
        "\n",
        "\n",
        "\n",
        "n = int(input())\n",
        "all = []\n",
        "for i in range(n):\n",
        "  word = input()\n",
        "  all.append((len(word), word))\n",
        "\n",
        "solve_problem(n, all)"
      ],
      "metadata": {
        "id": "8wpg1dQelWvA"
      },
      "execution_count": null,
      "outputs": []
    },
    {
      "cell_type": "markdown",
      "source": [
        "### B - Forever Winter\n",
        "\n",
        "https://vjudge.net/contest/639169#problem/B"
      ],
      "metadata": {
        "id": "8_8wdnTVxu0b"
      }
    },
    {
      "cell_type": "code",
      "source": [
        "def solve_problem(graph):\n",
        "  n_connections = {u: len(graph[u]) for u in graph}\n",
        "  leng = [n_connections[node] for node in n_connections]\n",
        "  count = {}\n",
        "  for dim in leng:\n",
        "    if dim not in count:\n",
        "      count[dim] = 1\n",
        "    else:\n",
        "      count[dim] += 1\n",
        "  values_sort = sorted(count.items(), key= lambda x: x[1])\n",
        "\n",
        "  if len(values_sort) == 3:\n",
        "    x = values_sort[0][0]\n",
        "    y = values_sort[2][1] // x\n",
        "    print(x,\" \", y)\n",
        "  elif len(values_sort) == 2:\n",
        "    x = values_sort[0][0]\n",
        "    print(x,\" \",x-1)\n",
        "  else:\n",
        "    print(\"1 1\")\n",
        "\n",
        "  return None\n",
        "\n",
        "\n",
        "t = int(input())\n",
        "grid = []\n",
        "for i in range(t):\n",
        "  n, m = [int(i) for i in input().split()]\n",
        "  graph = {}\n",
        "  for j in range(m):\n",
        "    u, v = [int(i) for i in input().split()]\n",
        "    if u not in graph:\n",
        "      graph[u] = [v]\n",
        "    else:\n",
        "      graph[u].append(v)\n",
        "\n",
        "    if v not in graph:\n",
        "      graph[v] = [u]\n",
        "    else:\n",
        "      graph[v].append(u)\n",
        "\n",
        "  solve_problem(graph)"
      ],
      "metadata": {
        "id": "v0MWMvvRx1G0"
      },
      "execution_count": null,
      "outputs": []
    },
    {
      "cell_type": "code",
      "source": [
        "graph = [(2,1), (3,1)]\n",
        "set(graph[1])"
      ],
      "metadata": {
        "colab": {
          "base_uri": "https://localhost:8080/"
        },
        "id": "6IJnmNqm8bYB",
        "outputId": "c56fba9c-b31c-4072-8bad-3db3e96f5bce"
      },
      "execution_count": 3,
      "outputs": [
        {
          "output_type": "execute_result",
          "data": {
            "text/plain": [
              "{1, 3}"
            ]
          },
          "metadata": {},
          "execution_count": 3
        }
      ]
    },
    {
      "cell_type": "markdown",
      "source": [
        "### C - The lakes"
      ],
      "metadata": {
        "id": "Dm18viiaqf9f"
      }
    },
    {
      "cell_type": "code",
      "source": [
        "visited = [[0] * m] * n\n",
        "\n",
        "def add_volume(i, j, visited, volume):\n",
        "  if visited[i][j] == 0 and grid[i-1][j] != 0:\n",
        "    visited[i][j] = 1\n",
        "    volume = volume + grid[i, j]\n",
        "\n",
        "    if i > 0 and visited[i-1, j] == 0 and grid[i-1][j] != 0:\n",
        "      volume = add_volume(i-1, j, visited, volume)\n",
        "    elif j > 0 and visited[]\n",
        "\n",
        "  return volume\n",
        "\n",
        "\n",
        "\n",
        "def solve_problem(n, m, grid):\n",
        "  volumes = []\n",
        "  local_volume = 0\n",
        "  for i in range(n):\n",
        "    for j in range(m):\n",
        "      if\n",
        "      local_volume = local_volume + grid[i]\n",
        "\n",
        "  return max(volumes)\n",
        "\n",
        "\n",
        "\n",
        "t = int(input())\n",
        "grid = []\n",
        "for i in range(n):\n",
        "  n, m = [int(i) for i in input().split()]\n",
        "  line = [int(i) for i in input().split()]\n",
        "  grid.append(line)\n",
        "\n",
        "solve_problem(n, m, grid)"
      ],
      "metadata": {
        "id": "BLP-iP6gqilM"
      },
      "execution_count": null,
      "outputs": []
    },
    {
      "cell_type": "code",
      "source": [
        "n = 2\n",
        "m = 3\n",
        "visited = [[0] * m] * n\n",
        "print(visited)"
      ],
      "metadata": {
        "colab": {
          "base_uri": "https://localhost:8080/"
        },
        "id": "8QGSBnHerMeI",
        "outputId": "e6076839-8d61-4094-b8a1-3911ee7a96b8"
      },
      "execution_count": 2,
      "outputs": [
        {
          "output_type": "stream",
          "name": "stdout",
          "text": [
            "[[0, 0, 0], [0, 0, 0]]\n"
          ]
        }
      ]
    },
    {
      "cell_type": "markdown",
      "source": [
        "### K - Bun Lover\n",
        "\n",
        "https://vjudge.net/contest/639169#problem/K"
      ],
      "metadata": {
        "id": "N0fwg5QRIS6-"
      }
    },
    {
      "cell_type": "code",
      "source": [
        "def solve_problem(n):\n",
        "  return n * (n+2) + 2\n",
        "\n",
        "t = int(input())\n",
        "for i in range(t):\n",
        "  n = int(input())\n",
        "  print(solve_problem(n))"
      ],
      "metadata": {
        "id": "742Gcs8GInWx"
      },
      "execution_count": null,
      "outputs": []
    },
    {
      "cell_type": "markdown",
      "source": [
        "### G - Points on Line\n",
        "\n",
        "https://vjudge.net/contest/639169#problem/G"
      ],
      "metadata": {
        "id": "9i1gDAG3KP3B"
      }
    },
    {
      "cell_type": "code",
      "source": [
        "def solve_problem(n, d, all):\n",
        "  if n < 3:\n",
        "    return 0\n",
        "  count = 0\n",
        "  l = 0\n",
        "  r = 2\n",
        "  while l <= n-3:\n",
        "    if all[r] - all[l] <= d:\n",
        "      count += (r - l) - 1\n",
        "      if r + 1 != n:\n",
        "        r = r + 1\n",
        "      else:\n",
        "        l = l + 1\n",
        "    else:\n",
        "      l = l + 1\n",
        "  return count\n",
        "\n",
        "n, d = [int(i) for i in input().split()]\n",
        "all = [int(i) for i in input().split()]\n",
        "print(solve_problem(n, d, all))\n",
        "\n"
      ],
      "metadata": {
        "colab": {
          "base_uri": "https://localhost:8080/"
        },
        "id": "_ALwzJJ9KTr8",
        "outputId": "f884a844-54b0-42dd-923d-1bab341d5295"
      },
      "execution_count": 21,
      "outputs": [
        {
          "output_type": "stream",
          "name": "stdout",
          "text": [
            "5 19\n",
            "1 10 20 30 50\n",
            "20 ----- 1\n",
            "30 ----- 1\n",
            "30 ----- 10\n",
            "30 ----- 20\n",
            "50 ----- 20\n",
            "1\n"
          ]
        }
      ]
    },
    {
      "cell_type": "code",
      "source": [
        "\"0\" < \"3\""
      ],
      "metadata": {
        "colab": {
          "base_uri": "https://localhost:8080/"
        },
        "id": "jyi3cM6hXKnI",
        "outputId": "aa6b6ccd-85a3-4555-98cc-db455f9966e6"
      },
      "execution_count": 22,
      "outputs": [
        {
          "output_type": "execute_result",
          "data": {
            "text/plain": [
              "True"
            ]
          },
          "metadata": {},
          "execution_count": 22
        }
      ]
    },
    {
      "cell_type": "markdown",
      "source": [
        "### I - Secret Combination\n",
        "\n",
        "https://vjudge.net/contest/639169#problem/I"
      ],
      "metadata": {
        "id": "YsONzkWfXDme"
      }
    },
    {
      "cell_type": "code",
      "source": [
        "def solve_problem(word):\n",
        "  min = word\n",
        "  for i in range(n):\n",
        "    new_line = word[i:] + word[:i]\n",
        "    new_min = []\n",
        "    for char in new_line:\n",
        "      value = (int(char) - int(min[0]))%10\n",
        "      new_min.append(str(value))\n",
        "    new_min = ''.join(new_min)\n",
        "    if new_min < min:\n",
        "      min = new_min\n",
        "\n",
        "  return min\n",
        "\n",
        "def solve_problem2(word):\n",
        "  possible_words = []\n",
        "  for i in range(10):\n",
        "    new_word = []\n",
        "    for char in word:\n",
        "      value = (int(char) + i)%10\n",
        "      new_word.append(str(value))\n",
        "    possible_words.append(''.join(new_word))\n",
        "\n",
        "  min_word = possible_words[0]\n",
        "\n",
        "  for word in possible_words:\n",
        "    for i in range(n):\n",
        "      new_line = word[i:] + word[:i]\n",
        "\n",
        "      if new_line < min_word:\n",
        "        min_word = new_line\n",
        "\n",
        "  return min_word\n",
        "\n",
        "n = int(input())\n",
        "word = input()\n",
        "print(solve_problem2(word))\n",
        "\n"
      ],
      "metadata": {
        "colab": {
          "base_uri": "https://localhost:8080/"
        },
        "id": "vWudwrRUXLPB",
        "outputId": "5314120c-7c64-4d86-db24-3017988d7dfe"
      },
      "execution_count": 35,
      "outputs": [
        {
          "output_type": "stream",
          "name": "stdout",
          "text": [
            "4\n",
            "2014\n",
            "0142\n"
          ]
        }
      ]
    },
    {
      "cell_type": "markdown",
      "source": [
        "## Training Camp 2024/07/09"
      ],
      "metadata": {
        "id": "Y6F1Eht_b9n2"
      }
    },
    {
      "cell_type": "markdown",
      "source": [
        "### B - Adonay\n",
        "\n",
        "https://vjudge.net/contest/639447#problem/B"
      ],
      "metadata": {
        "id": "StJDkzMIh6EK"
      }
    },
    {
      "cell_type": "code",
      "source": [
        "h, l = [int(i) for i in input().split()]\n",
        "\n",
        "print((l*l - h*h) / (2 * h))"
      ],
      "metadata": {
        "id": "NDkoutbih8u6"
      },
      "execution_count": null,
      "outputs": []
    },
    {
      "cell_type": "markdown",
      "source": [
        "### D - Robots Easy\n",
        "\n",
        "https://vjudge.net/contest/639447#problem/D"
      ],
      "metadata": {
        "id": "02nkC1IPcC34"
      }
    },
    {
      "cell_type": "code",
      "source": [
        "def main():\n",
        "    n = int(input())\n",
        "    cadena = \"D\"*12+\"R\"*12 + \"U\" *12 + \"D\" + 2*\"L\"+\"D\"\n",
        "    for _ in range(0, n):\n",
        "        r, c = [int(i) for i in input().split()]\n",
        "        print(len(cadena))\n",
        "        print(cadena)\n",
        "\n",
        "main()"
      ],
      "metadata": {
        "id": "iIXrZy-BcI2y"
      },
      "execution_count": null,
      "outputs": []
    },
    {
      "cell_type": "markdown",
      "source": [
        "### G - Triangles\n",
        "\n",
        "https://vjudge.net/contest/639447#problem/G"
      ],
      "metadata": {
        "id": "VS8XPu7_cPnt"
      }
    },
    {
      "cell_type": "code",
      "source": [
        "def count_triangles(n, lista):\n",
        "    lista.sort()\n",
        "    counter = 0\n",
        "    print(lista)\n",
        "    for index_c in range(2, n):\n",
        "        index_a = 0\n",
        "        while index_a <= index_c - 2:\n",
        "            index_b = index_a + 1\n",
        "            while index_b <= index_c - 1:\n",
        "                if lista[index_c] < lista[index_a] + lista[index_b]:\n",
        "                    comb = index_c - index_b\n",
        "                    counter += comb\n",
        "\n",
        "                index_b = index_b + 1\n",
        "            index_a += 1\n",
        "    return counter\n",
        "def main():\n",
        "    n = int(input())\n",
        "    lista = [int(i) for i in input().split()]\n",
        "    print(count_triangles(n, lista))\n",
        "main()"
      ],
      "metadata": {
        "colab": {
          "base_uri": "https://localhost:8080/"
        },
        "id": "EVeQldeMcTJi",
        "outputId": "4a9d25c5-5d41-47c1-e150-af3be5e47c35"
      },
      "execution_count": 5,
      "outputs": [
        {
          "output_type": "stream",
          "name": "stdout",
          "text": [
            "7\n",
            "218 786 704 233 645 728 389\n",
            "[218, 233, 389, 645, 704, 728, 786]\n",
            "36\n"
          ]
        }
      ]
    },
    {
      "cell_type": "markdown",
      "source": [
        "### I - Walk on Multiplication Table\n",
        "\n",
        "https://vjudge.net/contest/639447#problem/I"
      ],
      "metadata": {
        "id": "x5E-lbS7nJnf"
      }
    },
    {
      "cell_type": "code",
      "source": [
        "n = int(input())\n",
        "\n",
        "sqrt = int(n ** (1/2))\n",
        "j = 0\n",
        "while j <= sqrt:\n",
        "  if n % (sqrt - j) == 0:\n",
        "    x = sqrt - j\n",
        "    y = n // x\n",
        "    print((x-1) + (y-1))\n",
        "    break\n",
        "  j = j + 1"
      ],
      "metadata": {
        "colab": {
          "base_uri": "https://localhost:8080/"
        },
        "id": "bJDl3nLenMDy",
        "outputId": "ee522f81-b02a-4a28-e1a1-fd9a5ea9fbec"
      },
      "execution_count": 8,
      "outputs": [
        {
          "output_type": "stream",
          "name": "stdout",
          "text": [
            "10000000019\n",
            "10000000018\n"
          ]
        }
      ]
    },
    {
      "cell_type": "markdown",
      "source": [
        "### L - Happy New Year 2023\n",
        "\n",
        "https://vjudge.net/contest/639447#problem/L"
      ],
      "metadata": {
        "id": "X0NwpDaru46G"
      }
    },
    {
      "cell_type": "code",
      "source": [
        "def solve(n):\n",
        "  sqrt = int(n**(1/2))\n",
        "  i = 0\n",
        "  while i <= sqrt:\n",
        "    element = sqrt - i\n",
        "    if n %element == 0 and n == element*element * (n // (element*element)):\n",
        "      return f\"{element} {n // (element*element)}\"\n",
        "    i = i + 1\n",
        "\n",
        "t = int(input())\n",
        "\n",
        "for i in range(t):\n",
        "  n = int(input())\n",
        "  print(solve(n))"
      ],
      "metadata": {
        "colab": {
          "base_uri": "https://localhost:8080/"
        },
        "id": "xdbzCLGyu8dz",
        "outputId": "e7f9d840-695a-459d-d135-b8be75e57807"
      },
      "execution_count": 11,
      "outputs": [
        {
          "output_type": "stream",
          "name": "stdout",
          "text": [
            "3\n",
            "2023\n",
            "17 7\n",
            "63\n",
            "3 7\n",
            "1059872604593911\n",
            "104149 97711\n"
          ]
        }
      ]
    },
    {
      "cell_type": "markdown",
      "source": [
        "## Training Camp 2024/07/10"
      ],
      "metadata": {
        "id": "6qQwWjoiAou4"
      }
    },
    {
      "cell_type": "markdown",
      "source": [
        "### B - Ladder\n",
        "\n",
        "https://vjudge.net/contest/639731#problem/B"
      ],
      "metadata": {
        "id": "DR6OqgQhr55B"
      }
    },
    {
      "cell_type": "code",
      "source": [
        "n, m = [int(i) for i in input().split()]\n",
        "all = [int(i) for i in input().split()]\n",
        "\n",
        "problem_index = []\n",
        "for i in range(1, n-1):\n",
        "  val = all[i] - all[i-1]\n",
        "  val2 = all[i+1] - all[i]\n",
        "  if val*val2 < 0:\n",
        "    problem_index.append(i)\n",
        "\n",
        "def solve(problem_index, l, r):\n",
        "  for x in problem_index:\n",
        "    if r-l <= 1:\n",
        "      return \"No\"\n",
        "    else:\n",
        "      if l <x and x < r:\n",
        "        return \"Yes\"\n",
        "\n",
        "  return \"No\"\n",
        "\n",
        "\n",
        "for j in range(m):\n",
        "  l, r = [int(i) for i in input().split()]\n",
        "  print(solve(problem_index, l, r))"
      ],
      "metadata": {
        "id": "IKVTlPd4r4mI"
      },
      "execution_count": null,
      "outputs": []
    },
    {
      "cell_type": "markdown",
      "source": [
        "### C - Frog 1"
      ],
      "metadata": {
        "id": "tx6Q8_yHG0Cb"
      }
    },
    {
      "cell_type": "code",
      "source": [
        "\n",
        "\n",
        "n = int(input())\n",
        "dp = {}\n",
        "all = [int(j) for j in input().split()]\n",
        "print(rec(0))\n",
        "\n",
        "def rec(i):\n",
        "  if i in dp:\n",
        "    return dp[i]\n",
        "  elif i == n - 2:\n",
        "    print(f\"{i=} {dp=}\")\n",
        "    dp[i] = rec(i+1) + abs(all[i+1] - all[i])\n",
        "    return dp[i]\n",
        "  elif i == n - 1:\n",
        "    print(f\"{i=} {dp=}\")\n",
        "    dp[i] = 0\n",
        "    return dp[i]\n",
        "  elif i == n:\n",
        "    print(f\"{i=} {dp=}\")\n",
        "    dp[i] = 10*10*10*10*10*10*10\n",
        "    return dp[i]\n",
        "  else:\n",
        "    print(f\"{i=} {dp=}\")\n",
        "    dp[i] = min([rec(i+2) + abs(all[i+2] - all[i]), rec(i+1) + abs(all[i+1] - all[i])])\n",
        "    return dp[i]"
      ],
      "metadata": {
        "colab": {
          "base_uri": "https://localhost:8080/"
        },
        "id": "I8MENEHJUWon",
        "outputId": "ff6c6373-1275-4cda-a2d9-04aa32cade69"
      },
      "execution_count": 29,
      "outputs": [
        {
          "output_type": "stream",
          "name": "stdout",
          "text": [
            "6\n",
            "30 10 60 10 60 50\n",
            "i=0 dp={}\n",
            "i=2 dp={}\n",
            "i=4 dp={}\n",
            "i=5 dp={}\n",
            "i=3 dp={5: 0, 4: 10}\n",
            "i=1 dp={5: 0, 4: 10, 3: 40, 2: 10}\n",
            "40\n"
          ]
        }
      ]
    },
    {
      "cell_type": "code",
      "source": [
        "def rec(i):\n",
        "  if i in dp:\n",
        "    return dp[i]\n",
        "  if i == 1:\n",
        "    return rec(i-1) + abs(all[i] - all[i-1])\n",
        "  else:\n",
        "    dp[i] = min(rec(i-1) + abs(all[i] - all[i-1]), rec(i-2) + abs(all[i-2] - all[i]))\n",
        "    return dp[i]\n",
        "\n",
        "n = int(input())\n",
        "dp = {}\n",
        "dp[0] = 0\n",
        "dp[-1] = 10*10*10*10*10*10*10\n",
        "all = [int(j) for j in input().split()]\n",
        "print(rec(n))"
      ],
      "metadata": {
        "colab": {
          "base_uri": "https://localhost:8080/",
          "height": 341
        },
        "id": "d-7iGcQ0G2qY",
        "outputId": "fe1cea44-ac8d-4ec6-f5fc-e04ff30ecfc5"
      },
      "execution_count": 13,
      "outputs": [
        {
          "name": "stdout",
          "output_type": "stream",
          "text": [
            "6\n",
            "30 10 60 10 60 50\n"
          ]
        },
        {
          "output_type": "error",
          "ename": "IndexError",
          "evalue": "list index out of range",
          "traceback": [
            "\u001b[0;31m---------------------------------------------------------------------------\u001b[0m",
            "\u001b[0;31mIndexError\u001b[0m                                Traceback (most recent call last)",
            "\u001b[0;32m<ipython-input-13-31b28c95aea0>\u001b[0m in \u001b[0;36m<cell line: 15>\u001b[0;34m()\u001b[0m\n\u001b[1;32m     13\u001b[0m \u001b[0mdp\u001b[0m\u001b[0;34m[\u001b[0m\u001b[0;34m-\u001b[0m\u001b[0;36m1\u001b[0m\u001b[0;34m]\u001b[0m \u001b[0;34m=\u001b[0m \u001b[0;36m10\u001b[0m\u001b[0;34m*\u001b[0m\u001b[0;36m10\u001b[0m\u001b[0;34m*\u001b[0m\u001b[0;36m10\u001b[0m\u001b[0;34m*\u001b[0m\u001b[0;36m10\u001b[0m\u001b[0;34m*\u001b[0m\u001b[0;36m10\u001b[0m\u001b[0;34m*\u001b[0m\u001b[0;36m10\u001b[0m\u001b[0;34m*\u001b[0m\u001b[0;36m10\u001b[0m\u001b[0;34m\u001b[0m\u001b[0;34m\u001b[0m\u001b[0m\n\u001b[1;32m     14\u001b[0m \u001b[0mall\u001b[0m \u001b[0;34m=\u001b[0m \u001b[0;34m[\u001b[0m\u001b[0mint\u001b[0m\u001b[0;34m(\u001b[0m\u001b[0mj\u001b[0m\u001b[0;34m)\u001b[0m \u001b[0;32mfor\u001b[0m \u001b[0mj\u001b[0m \u001b[0;32min\u001b[0m \u001b[0minput\u001b[0m\u001b[0;34m(\u001b[0m\u001b[0;34m)\u001b[0m\u001b[0;34m.\u001b[0m\u001b[0msplit\u001b[0m\u001b[0;34m(\u001b[0m\u001b[0;34m)\u001b[0m\u001b[0;34m]\u001b[0m\u001b[0;34m\u001b[0m\u001b[0;34m\u001b[0m\u001b[0m\n\u001b[0;32m---> 15\u001b[0;31m \u001b[0mprint\u001b[0m\u001b[0;34m(\u001b[0m\u001b[0mrec\u001b[0m\u001b[0;34m(\u001b[0m\u001b[0mn\u001b[0m\u001b[0;34m)\u001b[0m\u001b[0;34m)\u001b[0m\u001b[0;34m\u001b[0m\u001b[0;34m\u001b[0m\u001b[0m\n\u001b[0m",
            "\u001b[0;32m<ipython-input-13-31b28c95aea0>\u001b[0m in \u001b[0;36mrec\u001b[0;34m(i)\u001b[0m\n\u001b[1;32m      5\u001b[0m     \u001b[0;32mreturn\u001b[0m \u001b[0mrec\u001b[0m\u001b[0;34m(\u001b[0m\u001b[0mi\u001b[0m\u001b[0;34m-\u001b[0m\u001b[0;36m1\u001b[0m\u001b[0;34m)\u001b[0m \u001b[0;34m+\u001b[0m \u001b[0mabs\u001b[0m\u001b[0;34m(\u001b[0m\u001b[0mall\u001b[0m\u001b[0;34m[\u001b[0m\u001b[0mi\u001b[0m\u001b[0;34m]\u001b[0m \u001b[0;34m-\u001b[0m \u001b[0mall\u001b[0m\u001b[0;34m[\u001b[0m\u001b[0mi\u001b[0m\u001b[0;34m-\u001b[0m\u001b[0;36m1\u001b[0m\u001b[0;34m]\u001b[0m\u001b[0;34m)\u001b[0m\u001b[0;34m\u001b[0m\u001b[0;34m\u001b[0m\u001b[0m\n\u001b[1;32m      6\u001b[0m   \u001b[0;32melse\u001b[0m\u001b[0;34m:\u001b[0m\u001b[0;34m\u001b[0m\u001b[0;34m\u001b[0m\u001b[0m\n\u001b[0;32m----> 7\u001b[0;31m     \u001b[0mdp\u001b[0m\u001b[0;34m[\u001b[0m\u001b[0mi\u001b[0m\u001b[0;34m]\u001b[0m \u001b[0;34m=\u001b[0m \u001b[0mmin\u001b[0m\u001b[0;34m(\u001b[0m\u001b[0mrec\u001b[0m\u001b[0;34m(\u001b[0m\u001b[0mi\u001b[0m\u001b[0;34m-\u001b[0m\u001b[0;36m1\u001b[0m\u001b[0;34m)\u001b[0m \u001b[0;34m+\u001b[0m \u001b[0mabs\u001b[0m\u001b[0;34m(\u001b[0m\u001b[0mall\u001b[0m\u001b[0;34m[\u001b[0m\u001b[0mi\u001b[0m\u001b[0;34m]\u001b[0m \u001b[0;34m-\u001b[0m \u001b[0mall\u001b[0m\u001b[0;34m[\u001b[0m\u001b[0mi\u001b[0m\u001b[0;34m-\u001b[0m\u001b[0;36m1\u001b[0m\u001b[0;34m]\u001b[0m\u001b[0;34m)\u001b[0m\u001b[0;34m,\u001b[0m \u001b[0mrec\u001b[0m\u001b[0;34m(\u001b[0m\u001b[0mi\u001b[0m\u001b[0;34m-\u001b[0m\u001b[0;36m2\u001b[0m\u001b[0;34m)\u001b[0m \u001b[0;34m+\u001b[0m \u001b[0mabs\u001b[0m\u001b[0;34m(\u001b[0m\u001b[0mall\u001b[0m\u001b[0;34m[\u001b[0m\u001b[0mi\u001b[0m\u001b[0;34m-\u001b[0m\u001b[0;36m2\u001b[0m\u001b[0;34m]\u001b[0m \u001b[0;34m-\u001b[0m \u001b[0mall\u001b[0m\u001b[0;34m[\u001b[0m\u001b[0mi\u001b[0m\u001b[0;34m]\u001b[0m\u001b[0;34m)\u001b[0m\u001b[0;34m)\u001b[0m\u001b[0;34m\u001b[0m\u001b[0;34m\u001b[0m\u001b[0m\n\u001b[0m\u001b[1;32m      8\u001b[0m     \u001b[0;32mreturn\u001b[0m \u001b[0mdp\u001b[0m\u001b[0;34m[\u001b[0m\u001b[0mi\u001b[0m\u001b[0;34m]\u001b[0m\u001b[0;34m\u001b[0m\u001b[0;34m\u001b[0m\u001b[0m\n\u001b[1;32m      9\u001b[0m \u001b[0;34m\u001b[0m\u001b[0m\n",
            "\u001b[0;31mIndexError\u001b[0m: list index out of range"
          ]
        }
      ]
    },
    {
      "cell_type": "markdown",
      "source": [
        "### G - Coin games\n",
        "\n",
        "https://vjudge.net/contest/639731#problem/G"
      ],
      "metadata": {
        "id": "J6EBMkx3DxT3"
      }
    },
    {
      "cell_type": "code",
      "source": [
        "def solve_problem(word):\n",
        "  n_u = 0\n",
        "  for char in word:\n",
        "    if char == 'U':\n",
        "      n_u += 1\n",
        "\n",
        "  if n_u % 2 !=0:\n",
        "    return \"YES\"\n",
        "  else:\n",
        "    return \"NO\"\n",
        "\n",
        "\n",
        "t = int(input())\n",
        "\n",
        "for i in range(t):\n",
        "  n = input()\n",
        "  word = input()\n",
        "  print(solve_problem(word))"
      ],
      "metadata": {
        "id": "CYCbdvjGAxso"
      },
      "execution_count": null,
      "outputs": []
    },
    {
      "cell_type": "markdown",
      "source": [
        "### H - Longest Path\n",
        "\n",
        "https://vjudge.net/contest/639731#problem/H"
      ],
      "metadata": {
        "id": "ycLwnE3Mw0fG"
      }
    },
    {
      "cell_type": "code",
      "source": [
        "def dfs(u):\n",
        "  visited[u] = True\n",
        "  max_count = 0\n",
        "  for v in graph[u]:\n",
        "    if not visited[v]:\n",
        "      v_count = dfs(v) + 1\n",
        "    else:\n",
        "      v_count = list_count[v] + 1\n",
        "\n",
        "    if v_count> max_count:\n",
        "      max_count = v_count\n",
        "  list_count[u] = max_count\n",
        "  return list_count[u]\n",
        "\n",
        "\n",
        "n, m = [int(i) for i in input().split()]\n",
        "graph = {}\n",
        "list_count = [-2] * (n+1)\n",
        "visited = [False] * (n+1)\n",
        "for i in range(n):\n",
        "  graph[i+1] = []\n",
        "\n",
        "for i in range(m):\n",
        "  x, y = [int(i) for i in input().split()]\n",
        "  graph[x].append(y)\n",
        "\n",
        "solution = 0\n",
        "for i in range(1, n+1):\n",
        "  if not visited[i]:\n",
        "    p_solution = dfs(i)\n",
        "  else:\n",
        "    p_solution = list_count[i]\n",
        "\n",
        "  if p_solution > solution:\n",
        "    solution = p_solution\n",
        "\n",
        "print(solution)\n",
        "\n"
      ],
      "metadata": {
        "id": "CnNy1AISw-n5"
      },
      "execution_count": null,
      "outputs": []
    },
    {
      "cell_type": "markdown",
      "source": [
        "## Training Camp 2024/07/11"
      ],
      "metadata": {
        "id": "WZkF5cLbNu-N"
      }
    },
    {
      "cell_type": "markdown",
      "source": [
        "### A - Sonya and Exhibition\n",
        "\n",
        "https://vjudge.net/contest/640262#problem/A"
      ],
      "metadata": {
        "id": "b85FZdyDboEt"
      }
    },
    {
      "cell_type": "code",
      "source": [
        "n, m = [int(i) for i in input().split()]\n",
        "\n",
        "for _ in range(m):\n",
        "  l, m = [int(i) for i in input().split()]\n",
        "\n",
        "solution = \"\"\n",
        "for i in range(n):\n",
        "  if i % 2 == 0:\n",
        "    solution += \"1\"\n",
        "  else:\n",
        "    solution += \"0\"\n",
        "\n",
        "print(solution)"
      ],
      "metadata": {
        "id": "fthEzt2Wbqo_"
      },
      "execution_count": null,
      "outputs": []
    },
    {
      "cell_type": "markdown",
      "source": [
        "### B - Cashback\n",
        "\n",
        "https://vjudge.net/contest/640262#problem/B"
      ],
      "metadata": {
        "id": "eIZHHU6xu5Y0"
      }
    },
    {
      "cell_type": "code",
      "source": [
        "n, c = [int(i) for i in input().split()]\n",
        "all = [int(i) for i in input().split()]\n",
        "\n",
        "acum = 0\n",
        "p_sum = [0]\n",
        "for num in all:\n",
        "  acum = acum + num\n",
        "  p_sum.append(acum)\n",
        "\n",
        "if c >= n:\n",
        "  print(p_sum[n])\n",
        "else:\n",
        "\n",
        "  min_sum = p_sum[n]\n",
        "  min_index = 0\n",
        "  k = min(c, n-c)\n",
        "  for i in range(k):\n",
        "    l = i\n",
        "    r = i + c* (n // c)\n",
        "    interval_sum = p_sum[l] + (p_sum[n] - p_sum[ r])\n",
        "    # print(f\"{all[:l]=} {all[r:]=}\")\n",
        "    # print(f\"{p_sum[l]=} {p_sum[n] - p_sum[ r]=}\")\n",
        "\n",
        "    if interval_sum < min_sum:\n",
        "      min_sum = interval_sum\n",
        "      min_index = i\n",
        "\n",
        "  # print(min_index)\n",
        "\n",
        "  l = min_index\n",
        "  flag = 0\n",
        "  minimum_sum = p_sum[n]\n",
        "  while  l + c <= n:\n",
        "    r = l + c\n",
        "    minimum_sum -= min(all[l:r])\n",
        "    # print(f\"{l=} {all[l:r]=} {min(all[l:r])}\")\n",
        "    l = l + c\n",
        "\n",
        "  print(minimum_sum)\n",
        ""
      ],
      "metadata": {
        "colab": {
          "base_uri": "https://localhost:8080/"
        },
        "id": "itESm1cQu9Jd",
        "outputId": "d58a6ec5-acda-4844-d8fd-7191cb402c51"
      },
      "execution_count": 97,
      "outputs": [
        {
          "output_type": "stream",
          "name": "stdout",
          "text": [
            "8 4\n",
            "1 3 4 5 5 3 4 1\n",
            "24\n"
          ]
        }
      ]
    },
    {
      "cell_type": "markdown",
      "source": [
        "### D - Sonya and Hotels\n",
        "\n",
        "https://vjudge.net/contest/640262#problem/D"
      ],
      "metadata": {
        "id": "YTJpn32iTTq9"
      }
    },
    {
      "cell_type": "code",
      "source": [
        "n, d = [int(i) for i in input().split()]\n",
        "all = [int(i) for i in input().split()]\n",
        "\n",
        "count = 2\n",
        "\n",
        "for i in range(n-1):\n",
        "  if all[i+1] - all[i] >= 2*d:\n",
        "    delta = all[i+1] - all[i] - 2*d\n",
        "    if delta == 0:\n",
        "      count += 1\n",
        "    else:\n",
        "      count += 2\n",
        "\n",
        "    # print(f\"{all[i+1]=} {all[i]=} {delta}\")\n",
        "\n",
        "print(count)"
      ],
      "metadata": {
        "colab": {
          "base_uri": "https://localhost:8080/"
        },
        "id": "GeVua7-MTX5g",
        "outputId": "79043fab-366b-4295-a736-01a3f571149b"
      },
      "execution_count": 25,
      "outputs": [
        {
          "output_type": "stream",
          "name": "stdout",
          "text": [
            "5 2\n",
            "4 8 11 18 19\n",
            "5\n"
          ]
        }
      ]
    },
    {
      "cell_type": "markdown",
      "source": [
        "### F - Frog Jumps\n",
        "\n",
        "https://vjudge.net/contest/640262#problem/F"
      ],
      "metadata": {
        "id": "mbI6izedgqAQ"
      }
    },
    {
      "cell_type": "code",
      "source": [
        "t = int(input())\n",
        "\n",
        "for _ in range(t):\n",
        "  s = input()\n",
        "  count = 0\n",
        "  distances = []\n",
        "  for char in s:\n",
        "    if char == 'L':\n",
        "      count += 1\n",
        "    else:\n",
        "      distances.append(count)\n",
        "      count = 0\n",
        "  distances.append(count) # Lo añado para contar el último numero de L's\n",
        "\n",
        "\n",
        "  solution = max(distances) + 1\n",
        "\n",
        "  print(solution)"
      ],
      "metadata": {
        "colab": {
          "base_uri": "https://localhost:8080/",
          "height": 418
        },
        "id": "VYjBgcw_g6n7",
        "outputId": "8a01cd65-abb6-488b-f164-f5a47b6be4df"
      },
      "execution_count": 27,
      "outputs": [
        {
          "output_type": "stream",
          "name": "stdout",
          "text": [
            "2\n",
            "LLR\n",
            "1\n"
          ]
        },
        {
          "output_type": "error",
          "ename": "KeyboardInterrupt",
          "evalue": "Interrupted by user",
          "traceback": [
            "\u001b[0;31m---------------------------------------------------------------------------\u001b[0m",
            "\u001b[0;31mKeyboardInterrupt\u001b[0m                         Traceback (most recent call last)",
            "\u001b[0;32m<ipython-input-27-9863046769ab>\u001b[0m in \u001b[0;36m<cell line: 3>\u001b[0;34m()\u001b[0m\n\u001b[1;32m      2\u001b[0m \u001b[0;34m\u001b[0m\u001b[0m\n\u001b[1;32m      3\u001b[0m \u001b[0;32mfor\u001b[0m \u001b[0m_\u001b[0m \u001b[0;32min\u001b[0m \u001b[0mrange\u001b[0m\u001b[0;34m(\u001b[0m\u001b[0mt\u001b[0m\u001b[0;34m)\u001b[0m\u001b[0;34m:\u001b[0m\u001b[0;34m\u001b[0m\u001b[0;34m\u001b[0m\u001b[0m\n\u001b[0;32m----> 4\u001b[0;31m   \u001b[0ms\u001b[0m \u001b[0;34m=\u001b[0m \u001b[0minput\u001b[0m\u001b[0;34m(\u001b[0m\u001b[0;34m)\u001b[0m\u001b[0;34m\u001b[0m\u001b[0;34m\u001b[0m\u001b[0m\n\u001b[0m\u001b[1;32m      5\u001b[0m   \u001b[0mcount\u001b[0m \u001b[0;34m=\u001b[0m \u001b[0;36m0\u001b[0m\u001b[0;34m\u001b[0m\u001b[0;34m\u001b[0m\u001b[0m\n\u001b[1;32m      6\u001b[0m   \u001b[0mdistances\u001b[0m \u001b[0;34m=\u001b[0m \u001b[0;34m[\u001b[0m\u001b[0;34m]\u001b[0m\u001b[0;34m\u001b[0m\u001b[0;34m\u001b[0m\u001b[0m\n",
            "\u001b[0;32m/usr/local/lib/python3.10/dist-packages/ipykernel/kernelbase.py\u001b[0m in \u001b[0;36mraw_input\u001b[0;34m(self, prompt)\u001b[0m\n\u001b[1;32m    849\u001b[0m                 \u001b[0;34m\"raw_input was called, but this frontend does not support input requests.\"\u001b[0m\u001b[0;34m\u001b[0m\u001b[0;34m\u001b[0m\u001b[0m\n\u001b[1;32m    850\u001b[0m             )\n\u001b[0;32m--> 851\u001b[0;31m         return self._input_request(str(prompt),\n\u001b[0m\u001b[1;32m    852\u001b[0m             \u001b[0mself\u001b[0m\u001b[0;34m.\u001b[0m\u001b[0m_parent_ident\u001b[0m\u001b[0;34m,\u001b[0m\u001b[0;34m\u001b[0m\u001b[0;34m\u001b[0m\u001b[0m\n\u001b[1;32m    853\u001b[0m             \u001b[0mself\u001b[0m\u001b[0;34m.\u001b[0m\u001b[0m_parent_header\u001b[0m\u001b[0;34m,\u001b[0m\u001b[0;34m\u001b[0m\u001b[0;34m\u001b[0m\u001b[0m\n",
            "\u001b[0;32m/usr/local/lib/python3.10/dist-packages/ipykernel/kernelbase.py\u001b[0m in \u001b[0;36m_input_request\u001b[0;34m(self, prompt, ident, parent, password)\u001b[0m\n\u001b[1;32m    893\u001b[0m             \u001b[0;32mexcept\u001b[0m \u001b[0mKeyboardInterrupt\u001b[0m\u001b[0;34m:\u001b[0m\u001b[0;34m\u001b[0m\u001b[0;34m\u001b[0m\u001b[0m\n\u001b[1;32m    894\u001b[0m                 \u001b[0;31m# re-raise KeyboardInterrupt, to truncate traceback\u001b[0m\u001b[0;34m\u001b[0m\u001b[0;34m\u001b[0m\u001b[0m\n\u001b[0;32m--> 895\u001b[0;31m                 \u001b[0;32mraise\u001b[0m \u001b[0mKeyboardInterrupt\u001b[0m\u001b[0;34m(\u001b[0m\u001b[0;34m\"Interrupted by user\"\u001b[0m\u001b[0;34m)\u001b[0m \u001b[0;32mfrom\u001b[0m \u001b[0;32mNone\u001b[0m\u001b[0;34m\u001b[0m\u001b[0;34m\u001b[0m\u001b[0m\n\u001b[0m\u001b[1;32m    896\u001b[0m             \u001b[0;32mexcept\u001b[0m \u001b[0mException\u001b[0m \u001b[0;32mas\u001b[0m \u001b[0me\u001b[0m\u001b[0;34m:\u001b[0m\u001b[0;34m\u001b[0m\u001b[0;34m\u001b[0m\u001b[0m\n\u001b[1;32m    897\u001b[0m                 \u001b[0mself\u001b[0m\u001b[0;34m.\u001b[0m\u001b[0mlog\u001b[0m\u001b[0;34m.\u001b[0m\u001b[0mwarning\u001b[0m\u001b[0;34m(\u001b[0m\u001b[0;34m\"Invalid Message:\"\u001b[0m\u001b[0;34m,\u001b[0m \u001b[0mexc_info\u001b[0m\u001b[0;34m=\u001b[0m\u001b[0;32mTrue\u001b[0m\u001b[0;34m)\u001b[0m\u001b[0;34m\u001b[0m\u001b[0;34m\u001b[0m\u001b[0m\n",
            "\u001b[0;31mKeyboardInterrupt\u001b[0m: Interrupted by user"
          ]
        }
      ]
    },
    {
      "cell_type": "markdown",
      "source": [
        "### J - Diverse Team\n",
        "https://vjudge.net/contest/640262#problem/J\n",
        "\n"
      ],
      "metadata": {
        "id": "pSl9ql1cNzlE"
      }
    },
    {
      "cell_type": "code",
      "source": [
        "def solve(n, k, all):\n",
        "  count = {}\n",
        "  for i in range(n):\n",
        "    if all[i] not in count:\n",
        "      count[all[i]] = i+1\n",
        "    if len(count) >= k:\n",
        "      solution = []\n",
        "      for j in count:\n",
        "        solution.append(str(count[j]))\n",
        "\n",
        "      string = ' '.join(solution)\n",
        "      print(\"YES\")\n",
        "      return string\n",
        "\n",
        "  return \"NO\"\n",
        "\n",
        "n, k = [int(i) for i in input().split()]\n",
        "all = [int(i) for i in input().split()]\n",
        "\n",
        "print(solve(n, k, all))\n",
        "\n"
      ],
      "metadata": {
        "colab": {
          "base_uri": "https://localhost:8080/"
        },
        "id": "uy4GlWW-OPMV",
        "outputId": "36165a81-20be-430e-dae5-3a6ee6b77a4f"
      },
      "execution_count": 6,
      "outputs": [
        {
          "output_type": "stream",
          "name": "stdout",
          "text": [
            "5 3\n",
            "15 13 15 15 12\n",
            "YES\n",
            "1 2 5\n"
          ]
        }
      ]
    },
    {
      "cell_type": "markdown",
      "source": [
        "### H - Mahmoud and Ehab and the even-odd game - Choni\n",
        "\n",
        "https://vjudge.net/contest/640262#problem/H"
      ],
      "metadata": {
        "id": "p3goGmBJRLft"
      }
    },
    {
      "cell_type": "code",
      "source": [
        "def main():\n",
        "    n = int(input())\n",
        "\n",
        "    if n % 2 != 0:\n",
        "        print(\"Ehab\")\n",
        "    else:\n",
        "        print(\"Mahmoud\")\n",
        "\n",
        "main()"
      ],
      "metadata": {
        "id": "WQ7UOYzyROCn"
      },
      "execution_count": null,
      "outputs": []
    },
    {
      "cell_type": "markdown",
      "source": [
        "### M - Anton and Digits\n",
        "\n",
        "https://vjudge.net/contest/640262#problem/M\n",
        "\n"
      ],
      "metadata": {
        "id": "3u3yoVamiHt4"
      }
    },
    {
      "cell_type": "code",
      "source": [
        "def main():\n",
        "    digits = [int(i) for i in input().split()]\n",
        "    quantity_of_256 =  min(digits[0], digits[2], digits[3])\n",
        "    sum256 =  quantity_of_256 * 256\n",
        "    digits[0] =  digits[0] - quantity_of_256\n",
        "    quantity_of_32 = min(digits[0], digits[1])\n",
        "    sum32 =  quantity_of_32 * 32\n",
        "    result = sum256 + sum32\n",
        "    return result\n",
        "print(main())"
      ],
      "metadata": {
        "id": "v9JcskmZiN_l"
      },
      "execution_count": null,
      "outputs": []
    },
    {
      "cell_type": "markdown",
      "source": [
        "### L - King Scape\n",
        "\n",
        "https://vjudge.net/contest/640262#problem/L"
      ],
      "metadata": {
        "id": "ntaJuXde77aQ"
      }
    },
    {
      "cell_type": "code",
      "source": [
        "def main():\n",
        "    n = int(input())\n",
        "    c_queen = [int(i) for i in input().split()]\n",
        "    c_king = [int(j) for j in input().split()]\n",
        "    c_target = [int(k) for k in input().split()]\n",
        "\n",
        "    c_queen_x, c_queen_y = c_queen[0], c_queen[1]\n",
        "    c_king_x, c_king_y = c_king[0], c_king[1]\n",
        "    c_target_x, c_target_y = c_target[0], c_target[1]\n",
        "\n",
        "    final_c_king_x = c_queen_x - c_king_x\n",
        "    final_c_king_y = c_queen_y - c_king_y\n",
        "    final_c_target_x = c_queen_x - c_target_x\n",
        "    final_c_target_y = c_queen_y - c_target_y\n",
        "\n",
        "    abs_final_c_target_x = abs(final_c_target_x)\n",
        "    abs_final_c_target_y = abs(final_c_target_y)\n",
        "\n",
        "    if ((final_c_king_x * final_c_target_x >= 0)\n",
        "            and (final_c_king_y * final_c_target_y >= 0)\n",
        "            and (abs_final_c_target_x != abs_final_c_target_y)):\n",
        "        return \"YES\"\n",
        "    else:\n",
        "        return \"NO\"\n",
        "\n",
        "\n",
        "print(main())"
      ],
      "metadata": {
        "id": "J8uzXL857_8c"
      },
      "execution_count": null,
      "outputs": []
    }
  ]
}